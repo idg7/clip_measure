{
 "cells": [
  {
   "cell_type": "code",
   "execution_count": 87,
   "metadata": {},
   "outputs": [],
   "source": [
    "import pickle\n",
    "import plotly\n",
    "import numpy\n",
    "import plotly.graph_objects as go\n",
    "import pandas as pd"
   ]
  },
  {
   "cell_type": "code",
   "execution_count": 130,
   "metadata": {},
   "outputs": [],
   "source": [
    "df = pd.read_csv('/home/administrator/experiments/familiarity/results/B_familiarity_comparison_l2.csv')\n",
    "# df = pd.read_csv('/home/administrator/experiments/high_importance_features_full_dataset/vgg16/results/comparisons.csv')"
   ]
  },
  {
   "cell_type": "code",
   "execution_count": 131,
   "metadata": {},
   "outputs": [
    {
     "data": {
      "text/html": [
       "<div>\n",
       "<style scoped>\n",
       "    .dataframe tbody tr th:only-of-type {\n",
       "        vertical-align: middle;\n",
       "    }\n",
       "\n",
       "    .dataframe tbody tr th {\n",
       "        vertical-align: top;\n",
       "    }\n",
       "\n",
       "    .dataframe thead th {\n",
       "        text-align: right;\n",
       "    }\n",
       "</style>\n",
       "<table border=\"1\" class=\"dataframe\">\n",
       "  <thead>\n",
       "    <tr style=\"text-align: right;\">\n",
       "      <th></th>\n",
       "      <th>Unnamed: 0</th>\n",
       "      <th>conv5</th>\n",
       "      <th>conv3</th>\n",
       "      <th>fc7</th>\n",
       "      <th>output</th>\n",
       "      <th>conv1</th>\n",
       "      <th>conv4</th>\n",
       "      <th>conv2</th>\n",
       "      <th>fc6</th>\n",
       "      <th>input</th>\n",
       "      <th>fc8</th>\n",
       "      <th>type</th>\n",
       "    </tr>\n",
       "  </thead>\n",
       "  <tbody>\n",
       "    <tr>\n",
       "      <th>0</th>\n",
       "      <td>('n004043/0247_02.jpg', 'n004043/0518_01.jpg')</td>\n",
       "      <td>206.19081</td>\n",
       "      <td>6617.1750</td>\n",
       "      <td>455.39642</td>\n",
       "      <td>0.261736</td>\n",
       "      <td>676.15430</td>\n",
       "      <td>1793.4805</td>\n",
       "      <td>2350.8572</td>\n",
       "      <td>191.30199</td>\n",
       "      <td>246.36972</td>\n",
       "      <td>186.56192</td>\n",
       "      <td>A_same</td>\n",
       "    </tr>\n",
       "    <tr>\n",
       "      <th>1</th>\n",
       "      <td>('n004043/0018_01.jpg', 'n004043/0393_01.jpg')</td>\n",
       "      <td>243.84420</td>\n",
       "      <td>8331.0530</td>\n",
       "      <td>672.47400</td>\n",
       "      <td>0.314159</td>\n",
       "      <td>846.68990</td>\n",
       "      <td>2118.2852</td>\n",
       "      <td>3234.9700</td>\n",
       "      <td>249.19443</td>\n",
       "      <td>225.68164</td>\n",
       "      <td>210.16591</td>\n",
       "      <td>A_same</td>\n",
       "    </tr>\n",
       "    <tr>\n",
       "      <th>2</th>\n",
       "      <td>('n004043/0145_02.jpg', 'n004043/0239_01.jpg')</td>\n",
       "      <td>188.22018</td>\n",
       "      <td>7237.6167</td>\n",
       "      <td>358.70920</td>\n",
       "      <td>0.369061</td>\n",
       "      <td>541.79620</td>\n",
       "      <td>1794.7498</td>\n",
       "      <td>2140.5570</td>\n",
       "      <td>160.19711</td>\n",
       "      <td>205.77385</td>\n",
       "      <td>155.17980</td>\n",
       "      <td>A_same</td>\n",
       "    </tr>\n",
       "    <tr>\n",
       "      <th>3</th>\n",
       "      <td>('n004043/0331_01.jpg', 'n004043/0382_02.jpg')</td>\n",
       "      <td>225.96394</td>\n",
       "      <td>8634.8460</td>\n",
       "      <td>437.25278</td>\n",
       "      <td>0.394981</td>\n",
       "      <td>671.36010</td>\n",
       "      <td>2003.3387</td>\n",
       "      <td>2848.0366</td>\n",
       "      <td>180.56596</td>\n",
       "      <td>255.65373</td>\n",
       "      <td>165.61550</td>\n",
       "      <td>A_same</td>\n",
       "    </tr>\n",
       "    <tr>\n",
       "      <th>4</th>\n",
       "      <td>('n004043/0252_01.jpg', 'n004043/0027_01.jpg')</td>\n",
       "      <td>202.51890</td>\n",
       "      <td>7250.8223</td>\n",
       "      <td>455.62622</td>\n",
       "      <td>0.315355</td>\n",
       "      <td>575.83630</td>\n",
       "      <td>1843.9806</td>\n",
       "      <td>2230.5910</td>\n",
       "      <td>185.69698</td>\n",
       "      <td>180.57858</td>\n",
       "      <td>197.63680</td>\n",
       "      <td>A_same</td>\n",
       "    </tr>\n",
       "    <tr>\n",
       "      <th>...</th>\n",
       "      <td>...</td>\n",
       "      <td>...</td>\n",
       "      <td>...</td>\n",
       "      <td>...</td>\n",
       "      <td>...</td>\n",
       "      <td>...</td>\n",
       "      <td>...</td>\n",
       "      <td>...</td>\n",
       "      <td>...</td>\n",
       "      <td>...</td>\n",
       "      <td>...</td>\n",
       "      <td>...</td>\n",
       "    </tr>\n",
       "    <tr>\n",
       "      <th>14990</th>\n",
       "      <td>('n004445/0319_02.jpg', 'n001911/0121_01.jpg')</td>\n",
       "      <td>255.66035</td>\n",
       "      <td>7868.2114</td>\n",
       "      <td>759.30634</td>\n",
       "      <td>0.872480</td>\n",
       "      <td>684.10626</td>\n",
       "      <td>2092.4639</td>\n",
       "      <td>2675.0503</td>\n",
       "      <td>311.35070</td>\n",
       "      <td>203.63625</td>\n",
       "      <td>285.68124</td>\n",
       "      <td>C_diff</td>\n",
       "    </tr>\n",
       "    <tr>\n",
       "      <th>14991</th>\n",
       "      <td>('n008481/0078_01.jpg', 'n004445/0372_01.jpg')</td>\n",
       "      <td>208.42125</td>\n",
       "      <td>8215.4590</td>\n",
       "      <td>677.18600</td>\n",
       "      <td>0.174386</td>\n",
       "      <td>1092.98390</td>\n",
       "      <td>1867.7411</td>\n",
       "      <td>4024.8472</td>\n",
       "      <td>247.12001</td>\n",
       "      <td>347.67987</td>\n",
       "      <td>255.77791</td>\n",
       "      <td>C_diff</td>\n",
       "    </tr>\n",
       "    <tr>\n",
       "      <th>14992</th>\n",
       "      <td>('n004701/0441_01.jpg', 'n004445/0239_04.jpg')</td>\n",
       "      <td>217.95459</td>\n",
       "      <td>7719.0500</td>\n",
       "      <td>501.27847</td>\n",
       "      <td>0.491980</td>\n",
       "      <td>846.78220</td>\n",
       "      <td>1981.0856</td>\n",
       "      <td>3086.9417</td>\n",
       "      <td>201.71532</td>\n",
       "      <td>298.16705</td>\n",
       "      <td>196.31992</td>\n",
       "      <td>C_diff</td>\n",
       "    </tr>\n",
       "    <tr>\n",
       "      <th>14993</th>\n",
       "      <td>('n004948/0161_01.jpg', 'n001911/0365_02.jpg')</td>\n",
       "      <td>200.02094</td>\n",
       "      <td>6675.3870</td>\n",
       "      <td>533.49610</td>\n",
       "      <td>0.266591</td>\n",
       "      <td>582.32290</td>\n",
       "      <td>1803.5165</td>\n",
       "      <td>2179.0183</td>\n",
       "      <td>227.37447</td>\n",
       "      <td>197.47949</td>\n",
       "      <td>191.75084</td>\n",
       "      <td>C_diff</td>\n",
       "    </tr>\n",
       "    <tr>\n",
       "      <th>14994</th>\n",
       "      <td>('n005295/0107_01.jpg', 'n004948/0119_01.jpg')</td>\n",
       "      <td>229.68471</td>\n",
       "      <td>8310.6470</td>\n",
       "      <td>694.43760</td>\n",
       "      <td>0.509103</td>\n",
       "      <td>922.02716</td>\n",
       "      <td>1951.5560</td>\n",
       "      <td>3246.7908</td>\n",
       "      <td>271.93927</td>\n",
       "      <td>322.82820</td>\n",
       "      <td>246.21075</td>\n",
       "      <td>C_diff</td>\n",
       "    </tr>\n",
       "  </tbody>\n",
       "</table>\n",
       "<p>14995 rows × 12 columns</p>\n",
       "</div>"
      ],
      "text/plain": [
       "                                           Unnamed: 0      conv5      conv3  \\\n",
       "0      ('n004043/0247_02.jpg', 'n004043/0518_01.jpg')  206.19081  6617.1750   \n",
       "1      ('n004043/0018_01.jpg', 'n004043/0393_01.jpg')  243.84420  8331.0530   \n",
       "2      ('n004043/0145_02.jpg', 'n004043/0239_01.jpg')  188.22018  7237.6167   \n",
       "3      ('n004043/0331_01.jpg', 'n004043/0382_02.jpg')  225.96394  8634.8460   \n",
       "4      ('n004043/0252_01.jpg', 'n004043/0027_01.jpg')  202.51890  7250.8223   \n",
       "...                                               ...        ...        ...   \n",
       "14990  ('n004445/0319_02.jpg', 'n001911/0121_01.jpg')  255.66035  7868.2114   \n",
       "14991  ('n008481/0078_01.jpg', 'n004445/0372_01.jpg')  208.42125  8215.4590   \n",
       "14992  ('n004701/0441_01.jpg', 'n004445/0239_04.jpg')  217.95459  7719.0500   \n",
       "14993  ('n004948/0161_01.jpg', 'n001911/0365_02.jpg')  200.02094  6675.3870   \n",
       "14994  ('n005295/0107_01.jpg', 'n004948/0119_01.jpg')  229.68471  8310.6470   \n",
       "\n",
       "             fc7    output       conv1      conv4      conv2        fc6  \\\n",
       "0      455.39642  0.261736   676.15430  1793.4805  2350.8572  191.30199   \n",
       "1      672.47400  0.314159   846.68990  2118.2852  3234.9700  249.19443   \n",
       "2      358.70920  0.369061   541.79620  1794.7498  2140.5570  160.19711   \n",
       "3      437.25278  0.394981   671.36010  2003.3387  2848.0366  180.56596   \n",
       "4      455.62622  0.315355   575.83630  1843.9806  2230.5910  185.69698   \n",
       "...          ...       ...         ...        ...        ...        ...   \n",
       "14990  759.30634  0.872480   684.10626  2092.4639  2675.0503  311.35070   \n",
       "14991  677.18600  0.174386  1092.98390  1867.7411  4024.8472  247.12001   \n",
       "14992  501.27847  0.491980   846.78220  1981.0856  3086.9417  201.71532   \n",
       "14993  533.49610  0.266591   582.32290  1803.5165  2179.0183  227.37447   \n",
       "14994  694.43760  0.509103   922.02716  1951.5560  3246.7908  271.93927   \n",
       "\n",
       "           input        fc8    type  \n",
       "0      246.36972  186.56192  A_same  \n",
       "1      225.68164  210.16591  A_same  \n",
       "2      205.77385  155.17980  A_same  \n",
       "3      255.65373  165.61550  A_same  \n",
       "4      180.57858  197.63680  A_same  \n",
       "...          ...        ...     ...  \n",
       "14990  203.63625  285.68124  C_diff  \n",
       "14991  347.67987  255.77791  C_diff  \n",
       "14992  298.16705  196.31992  C_diff  \n",
       "14993  197.47949  191.75084  C_diff  \n",
       "14994  322.82820  246.21075  C_diff  \n",
       "\n",
       "[14995 rows x 12 columns]"
      ]
     },
     "execution_count": 131,
     "metadata": {},
     "output_type": "execute_result"
    }
   ],
   "source": [
    "df"
   ]
  },
  {
   "cell_type": "code",
   "execution_count": 132,
   "metadata": {},
   "outputs": [],
   "source": [
    "df = df[['Unnamed: 0', 'input', 'conv1', 'conv2', 'conv3', 'conv4', 'conv5', 'fc6', 'fc7', 'fc8','output','type' ]]\n",
    "# df = df[~df.type.str.contains(\"frontal\")]\n"
   ]
  },
  {
   "cell_type": "code",
   "execution_count": 133,
   "metadata": {},
   "outputs": [],
   "source": [
    "max_value_df = df.max()\n",
    "df = df.reset_index(drop=True)\n"
   ]
  },
  {
   "cell_type": "code",
   "execution_count": 134,
   "metadata": {},
   "outputs": [],
   "source": [
    "del df['Unnamed: 0']"
   ]
  },
  {
   "cell_type": "code",
   "execution_count": 135,
   "metadata": {},
   "outputs": [
    {
     "name": "stdout",
     "output_type": "stream",
     "text": [
      "537.8808\n",
      "1542.5829\n",
      "5260.379\n",
      "11833.059\n",
      "2472.7336\n",
      "308.4969\n",
      "434.26912999999996\n",
      "1322.017\n",
      "413.80893\n",
      "1.4142103000000001\n"
     ]
    }
   ],
   "source": [
    "for x in df.drop(columns=['type']).columns:\n",
    "    print(df[x].max())\n",
    "    df[x]= ((df[x]-df[x].min())/(df[x].max()-df[x].min()))\n",
    "means_df = df.groupby(['type']).mean()\n",
    "means_df = means_df.rename_axis(\"layers\", axis=\"columns\")"
   ]
  },
  {
   "cell_type": "code",
   "execution_count": 136,
   "metadata": {},
   "outputs": [
    {
     "data": {
      "text/html": [
       "<div>\n",
       "<style scoped>\n",
       "    .dataframe tbody tr th:only-of-type {\n",
       "        vertical-align: middle;\n",
       "    }\n",
       "\n",
       "    .dataframe tbody tr th {\n",
       "        vertical-align: top;\n",
       "    }\n",
       "\n",
       "    .dataframe thead th {\n",
       "        text-align: right;\n",
       "    }\n",
       "</style>\n",
       "<table border=\"1\" class=\"dataframe\">\n",
       "  <thead>\n",
       "    <tr style=\"text-align: right;\">\n",
       "      <th></th>\n",
       "      <th>input</th>\n",
       "      <th>conv1</th>\n",
       "      <th>conv2</th>\n",
       "      <th>conv3</th>\n",
       "      <th>conv4</th>\n",
       "      <th>conv5</th>\n",
       "      <th>fc6</th>\n",
       "      <th>fc7</th>\n",
       "      <th>fc8</th>\n",
       "      <th>output</th>\n",
       "    </tr>\n",
       "    <tr>\n",
       "      <th>type</th>\n",
       "      <th></th>\n",
       "      <th></th>\n",
       "      <th></th>\n",
       "      <th></th>\n",
       "      <th></th>\n",
       "      <th></th>\n",
       "      <th></th>\n",
       "      <th></th>\n",
       "      <th></th>\n",
       "      <th></th>\n",
       "    </tr>\n",
       "  </thead>\n",
       "  <tbody>\n",
       "    <tr>\n",
       "      <th>A_diff</th>\n",
       "      <td>0.365744</td>\n",
       "      <td>0.384739</td>\n",
       "      <td>0.426432</td>\n",
       "      <td>0.483353</td>\n",
       "      <td>0.685129</td>\n",
       "      <td>0.717631</td>\n",
       "      <td>0.577092</td>\n",
       "      <td>0.483255</td>\n",
       "      <td>0.545189</td>\n",
       "      <td>0.324274</td>\n",
       "    </tr>\n",
       "    <tr>\n",
       "      <th>A_same</th>\n",
       "      <td>0.325819</td>\n",
       "      <td>0.344615</td>\n",
       "      <td>0.386435</td>\n",
       "      <td>0.450700</td>\n",
       "      <td>0.620954</td>\n",
       "      <td>0.569214</td>\n",
       "      <td>0.335787</td>\n",
       "      <td>0.265716</td>\n",
       "      <td>0.287972</td>\n",
       "      <td>0.251392</td>\n",
       "    </tr>\n",
       "    <tr>\n",
       "      <th>B_diff</th>\n",
       "      <td>0.348385</td>\n",
       "      <td>0.366011</td>\n",
       "      <td>0.408291</td>\n",
       "      <td>0.478719</td>\n",
       "      <td>0.678820</td>\n",
       "      <td>0.709538</td>\n",
       "      <td>0.616292</td>\n",
       "      <td>0.512246</td>\n",
       "      <td>0.612626</td>\n",
       "      <td>0.934876</td>\n",
       "    </tr>\n",
       "    <tr>\n",
       "      <th>B_same</th>\n",
       "      <td>0.312917</td>\n",
       "      <td>0.329826</td>\n",
       "      <td>0.371332</td>\n",
       "      <td>0.446971</td>\n",
       "      <td>0.615105</td>\n",
       "      <td>0.563248</td>\n",
       "      <td>0.331119</td>\n",
       "      <td>0.261511</td>\n",
       "      <td>0.287488</td>\n",
       "      <td>0.108717</td>\n",
       "    </tr>\n",
       "    <tr>\n",
       "      <th>C_diff</th>\n",
       "      <td>0.352238</td>\n",
       "      <td>0.369481</td>\n",
       "      <td>0.410262</td>\n",
       "      <td>0.473079</td>\n",
       "      <td>0.680337</td>\n",
       "      <td>0.714066</td>\n",
       "      <td>0.584234</td>\n",
       "      <td>0.487650</td>\n",
       "      <td>0.544685</td>\n",
       "      <td>0.360624</td>\n",
       "    </tr>\n",
       "    <tr>\n",
       "      <th>C_same</th>\n",
       "      <td>0.310285</td>\n",
       "      <td>0.326784</td>\n",
       "      <td>0.367261</td>\n",
       "      <td>0.436689</td>\n",
       "      <td>0.609742</td>\n",
       "      <td>0.560064</td>\n",
       "      <td>0.327591</td>\n",
       "      <td>0.260235</td>\n",
       "      <td>0.278183</td>\n",
       "      <td>0.252350</td>\n",
       "    </tr>\n",
       "  </tbody>\n",
       "</table>\n",
       "</div>"
      ],
      "text/plain": [
       "           input     conv1     conv2     conv3     conv4     conv5       fc6  \\\n",
       "type                                                                           \n",
       "A_diff  0.365744  0.384739  0.426432  0.483353  0.685129  0.717631  0.577092   \n",
       "A_same  0.325819  0.344615  0.386435  0.450700  0.620954  0.569214  0.335787   \n",
       "B_diff  0.348385  0.366011  0.408291  0.478719  0.678820  0.709538  0.616292   \n",
       "B_same  0.312917  0.329826  0.371332  0.446971  0.615105  0.563248  0.331119   \n",
       "C_diff  0.352238  0.369481  0.410262  0.473079  0.680337  0.714066  0.584234   \n",
       "C_same  0.310285  0.326784  0.367261  0.436689  0.609742  0.560064  0.327591   \n",
       "\n",
       "             fc7       fc8    output  \n",
       "type                                  \n",
       "A_diff  0.483255  0.545189  0.324274  \n",
       "A_same  0.265716  0.287972  0.251392  \n",
       "B_diff  0.512246  0.612626  0.934876  \n",
       "B_same  0.261511  0.287488  0.108717  \n",
       "C_diff  0.487650  0.544685  0.360624  \n",
       "C_same  0.260235  0.278183  0.252350  "
      ]
     },
     "execution_count": 136,
     "metadata": {},
     "output_type": "execute_result"
    }
   ],
   "source": [
    "means_df = df.groupby(['type']).mean()\n",
    "means_df"
   ]
  },
  {
   "cell_type": "code",
   "execution_count": 137,
   "metadata": {},
   "outputs": [
    {
     "data": {
      "text/html": [
       "<div>\n",
       "<style scoped>\n",
       "    .dataframe tbody tr th:only-of-type {\n",
       "        vertical-align: middle;\n",
       "    }\n",
       "\n",
       "    .dataframe tbody tr th {\n",
       "        vertical-align: top;\n",
       "    }\n",
       "\n",
       "    .dataframe thead th {\n",
       "        text-align: right;\n",
       "    }\n",
       "</style>\n",
       "<table border=\"1\" class=\"dataframe\">\n",
       "  <thead>\n",
       "    <tr style=\"text-align: right;\">\n",
       "      <th></th>\n",
       "      <th>input</th>\n",
       "      <th>conv1</th>\n",
       "      <th>conv2</th>\n",
       "      <th>conv3</th>\n",
       "      <th>conv4</th>\n",
       "      <th>conv5</th>\n",
       "      <th>fc6</th>\n",
       "      <th>fc7</th>\n",
       "      <th>fc8</th>\n",
       "      <th>output</th>\n",
       "    </tr>\n",
       "    <tr>\n",
       "      <th>type</th>\n",
       "      <th></th>\n",
       "      <th></th>\n",
       "      <th></th>\n",
       "      <th></th>\n",
       "      <th></th>\n",
       "      <th></th>\n",
       "      <th></th>\n",
       "      <th></th>\n",
       "      <th></th>\n",
       "      <th></th>\n",
       "    </tr>\n",
       "  </thead>\n",
       "  <tbody>\n",
       "  </tbody>\n",
       "</table>\n",
       "</div>"
      ],
      "text/plain": [
       "Empty DataFrame\n",
       "Columns: [input, conv1, conv2, conv3, conv4, conv5, fc6, fc7, fc8, output]\n",
       "Index: []"
      ]
     },
     "execution_count": 137,
     "metadata": {},
     "output_type": "execute_result"
    }
   ],
   "source": [
    "means_df.query('type==\"A\"')"
   ]
  },
  {
   "cell_type": "code",
   "execution_count": 138,
   "metadata": {},
   "outputs": [
    {
     "data": {
      "application/vnd.plotly.v1+json": {
       "config": {
        "plotlyServerURL": "https://plot.ly"
       },
       "data": [
        {
         "mode": "lines+markers",
         "name": "A_diff",
         "type": "scatter",
         "x": [
          "input",
          "conv1",
          "conv2",
          "conv3",
          "conv4",
          "conv5",
          "fc6",
          "fc7",
          "fc8",
          "output"
         ],
         "y": [
          0.3657438752259856,
          0.384738695815551,
          0.4264324521581876,
          0.48335294491829467,
          0.6851286299050698,
          0.717631249084794,
          0.5770921251035899,
          0.48325538400300094,
          0.5451892670611026,
          0.32427390050647975
         ]
        },
        {
         "mode": "lines+markers",
         "name": "A_same",
         "type": "scatter",
         "x": [
          "input",
          "conv1",
          "conv2",
          "conv3",
          "conv4",
          "conv5",
          "fc6",
          "fc7",
          "fc8",
          "output"
         ],
         "y": [
          0.32581942413986803,
          0.34461486338222486,
          0.38643500734684005,
          0.4507000961190407,
          0.6209543363721103,
          0.5692143820922152,
          0.33578733775394487,
          0.26571604393772946,
          0.2879724459240219,
          0.2513920928663933
         ]
        },
        {
         "mode": "lines+markers",
         "name": "B_diff",
         "type": "scatter",
         "x": [
          "input",
          "conv1",
          "conv2",
          "conv3",
          "conv4",
          "conv5",
          "fc6",
          "fc7",
          "fc8",
          "output"
         ],
         "y": [
          0.3483851266985432,
          0.3660109792705192,
          0.40829140975843564,
          0.4787192493224933,
          0.6788203183580206,
          0.7095377559046576,
          0.6162922169712811,
          0.5122455798703863,
          0.6126259333035247,
          0.9348755819276516
         ]
        },
        {
         "mode": "lines+markers",
         "name": "B_same",
         "type": "scatter",
         "x": [
          "input",
          "conv1",
          "conv2",
          "conv3",
          "conv4",
          "conv5",
          "fc6",
          "fc7",
          "fc8",
          "output"
         ],
         "y": [
          0.3129165512047387,
          0.3298261062036326,
          0.3713319436518534,
          0.44697147762010364,
          0.6151047960777525,
          0.5632478833978737,
          0.3311192234677374,
          0.2615106172907333,
          0.2874879939555249,
          0.10871665572977555
         ]
        },
        {
         "mode": "lines+markers",
         "name": "C_diff",
         "type": "scatter",
         "x": [
          "input",
          "conv1",
          "conv2",
          "conv3",
          "conv4",
          "conv5",
          "fc6",
          "fc7",
          "fc8",
          "output"
         ],
         "y": [
          0.3522381703870971,
          0.36948125826914746,
          0.4102620591537643,
          0.47307888248111885,
          0.6803371016467515,
          0.7140660370398607,
          0.5842344414588627,
          0.4876495607277749,
          0.544684696122581,
          0.3606243931398569
         ]
        },
        {
         "mode": "lines+markers",
         "name": "C_same",
         "type": "scatter",
         "x": [
          "input",
          "conv1",
          "conv2",
          "conv3",
          "conv4",
          "conv5",
          "fc6",
          "fc7",
          "fc8",
          "output"
         ],
         "y": [
          0.3102850658197644,
          0.32678395792928455,
          0.36726100514331284,
          0.43668875703872884,
          0.6097421751307727,
          0.5600643491134729,
          0.3275907243329747,
          0.2602345508669875,
          0.27818349174029133,
          0.25234952585084214
         ]
        }
       ],
       "layout": {
        "height": 700,
        "template": {
         "data": {
          "bar": [
           {
            "error_x": {
             "color": "#2a3f5f"
            },
            "error_y": {
             "color": "#2a3f5f"
            },
            "marker": {
             "line": {
              "color": "#E5ECF6",
              "width": 0.5
             }
            },
            "type": "bar"
           }
          ],
          "barpolar": [
           {
            "marker": {
             "line": {
              "color": "#E5ECF6",
              "width": 0.5
             }
            },
            "type": "barpolar"
           }
          ],
          "carpet": [
           {
            "aaxis": {
             "endlinecolor": "#2a3f5f",
             "gridcolor": "white",
             "linecolor": "white",
             "minorgridcolor": "white",
             "startlinecolor": "#2a3f5f"
            },
            "baxis": {
             "endlinecolor": "#2a3f5f",
             "gridcolor": "white",
             "linecolor": "white",
             "minorgridcolor": "white",
             "startlinecolor": "#2a3f5f"
            },
            "type": "carpet"
           }
          ],
          "choropleth": [
           {
            "colorbar": {
             "outlinewidth": 0,
             "ticks": ""
            },
            "type": "choropleth"
           }
          ],
          "contour": [
           {
            "colorbar": {
             "outlinewidth": 0,
             "ticks": ""
            },
            "colorscale": [
             [
              0,
              "#0d0887"
             ],
             [
              0.1111111111111111,
              "#46039f"
             ],
             [
              0.2222222222222222,
              "#7201a8"
             ],
             [
              0.3333333333333333,
              "#9c179e"
             ],
             [
              0.4444444444444444,
              "#bd3786"
             ],
             [
              0.5555555555555556,
              "#d8576b"
             ],
             [
              0.6666666666666666,
              "#ed7953"
             ],
             [
              0.7777777777777778,
              "#fb9f3a"
             ],
             [
              0.8888888888888888,
              "#fdca26"
             ],
             [
              1,
              "#f0f921"
             ]
            ],
            "type": "contour"
           }
          ],
          "contourcarpet": [
           {
            "colorbar": {
             "outlinewidth": 0,
             "ticks": ""
            },
            "type": "contourcarpet"
           }
          ],
          "heatmap": [
           {
            "colorbar": {
             "outlinewidth": 0,
             "ticks": ""
            },
            "colorscale": [
             [
              0,
              "#0d0887"
             ],
             [
              0.1111111111111111,
              "#46039f"
             ],
             [
              0.2222222222222222,
              "#7201a8"
             ],
             [
              0.3333333333333333,
              "#9c179e"
             ],
             [
              0.4444444444444444,
              "#bd3786"
             ],
             [
              0.5555555555555556,
              "#d8576b"
             ],
             [
              0.6666666666666666,
              "#ed7953"
             ],
             [
              0.7777777777777778,
              "#fb9f3a"
             ],
             [
              0.8888888888888888,
              "#fdca26"
             ],
             [
              1,
              "#f0f921"
             ]
            ],
            "type": "heatmap"
           }
          ],
          "heatmapgl": [
           {
            "colorbar": {
             "outlinewidth": 0,
             "ticks": ""
            },
            "colorscale": [
             [
              0,
              "#0d0887"
             ],
             [
              0.1111111111111111,
              "#46039f"
             ],
             [
              0.2222222222222222,
              "#7201a8"
             ],
             [
              0.3333333333333333,
              "#9c179e"
             ],
             [
              0.4444444444444444,
              "#bd3786"
             ],
             [
              0.5555555555555556,
              "#d8576b"
             ],
             [
              0.6666666666666666,
              "#ed7953"
             ],
             [
              0.7777777777777778,
              "#fb9f3a"
             ],
             [
              0.8888888888888888,
              "#fdca26"
             ],
             [
              1,
              "#f0f921"
             ]
            ],
            "type": "heatmapgl"
           }
          ],
          "histogram": [
           {
            "marker": {
             "colorbar": {
              "outlinewidth": 0,
              "ticks": ""
             }
            },
            "type": "histogram"
           }
          ],
          "histogram2d": [
           {
            "colorbar": {
             "outlinewidth": 0,
             "ticks": ""
            },
            "colorscale": [
             [
              0,
              "#0d0887"
             ],
             [
              0.1111111111111111,
              "#46039f"
             ],
             [
              0.2222222222222222,
              "#7201a8"
             ],
             [
              0.3333333333333333,
              "#9c179e"
             ],
             [
              0.4444444444444444,
              "#bd3786"
             ],
             [
              0.5555555555555556,
              "#d8576b"
             ],
             [
              0.6666666666666666,
              "#ed7953"
             ],
             [
              0.7777777777777778,
              "#fb9f3a"
             ],
             [
              0.8888888888888888,
              "#fdca26"
             ],
             [
              1,
              "#f0f921"
             ]
            ],
            "type": "histogram2d"
           }
          ],
          "histogram2dcontour": [
           {
            "colorbar": {
             "outlinewidth": 0,
             "ticks": ""
            },
            "colorscale": [
             [
              0,
              "#0d0887"
             ],
             [
              0.1111111111111111,
              "#46039f"
             ],
             [
              0.2222222222222222,
              "#7201a8"
             ],
             [
              0.3333333333333333,
              "#9c179e"
             ],
             [
              0.4444444444444444,
              "#bd3786"
             ],
             [
              0.5555555555555556,
              "#d8576b"
             ],
             [
              0.6666666666666666,
              "#ed7953"
             ],
             [
              0.7777777777777778,
              "#fb9f3a"
             ],
             [
              0.8888888888888888,
              "#fdca26"
             ],
             [
              1,
              "#f0f921"
             ]
            ],
            "type": "histogram2dcontour"
           }
          ],
          "mesh3d": [
           {
            "colorbar": {
             "outlinewidth": 0,
             "ticks": ""
            },
            "type": "mesh3d"
           }
          ],
          "parcoords": [
           {
            "line": {
             "colorbar": {
              "outlinewidth": 0,
              "ticks": ""
             }
            },
            "type": "parcoords"
           }
          ],
          "pie": [
           {
            "automargin": true,
            "type": "pie"
           }
          ],
          "scatter": [
           {
            "marker": {
             "colorbar": {
              "outlinewidth": 0,
              "ticks": ""
             }
            },
            "type": "scatter"
           }
          ],
          "scatter3d": [
           {
            "line": {
             "colorbar": {
              "outlinewidth": 0,
              "ticks": ""
             }
            },
            "marker": {
             "colorbar": {
              "outlinewidth": 0,
              "ticks": ""
             }
            },
            "type": "scatter3d"
           }
          ],
          "scattercarpet": [
           {
            "marker": {
             "colorbar": {
              "outlinewidth": 0,
              "ticks": ""
             }
            },
            "type": "scattercarpet"
           }
          ],
          "scattergeo": [
           {
            "marker": {
             "colorbar": {
              "outlinewidth": 0,
              "ticks": ""
             }
            },
            "type": "scattergeo"
           }
          ],
          "scattergl": [
           {
            "marker": {
             "colorbar": {
              "outlinewidth": 0,
              "ticks": ""
             }
            },
            "type": "scattergl"
           }
          ],
          "scattermapbox": [
           {
            "marker": {
             "colorbar": {
              "outlinewidth": 0,
              "ticks": ""
             }
            },
            "type": "scattermapbox"
           }
          ],
          "scatterpolar": [
           {
            "marker": {
             "colorbar": {
              "outlinewidth": 0,
              "ticks": ""
             }
            },
            "type": "scatterpolar"
           }
          ],
          "scatterpolargl": [
           {
            "marker": {
             "colorbar": {
              "outlinewidth": 0,
              "ticks": ""
             }
            },
            "type": "scatterpolargl"
           }
          ],
          "scatterternary": [
           {
            "marker": {
             "colorbar": {
              "outlinewidth": 0,
              "ticks": ""
             }
            },
            "type": "scatterternary"
           }
          ],
          "surface": [
           {
            "colorbar": {
             "outlinewidth": 0,
             "ticks": ""
            },
            "colorscale": [
             [
              0,
              "#0d0887"
             ],
             [
              0.1111111111111111,
              "#46039f"
             ],
             [
              0.2222222222222222,
              "#7201a8"
             ],
             [
              0.3333333333333333,
              "#9c179e"
             ],
             [
              0.4444444444444444,
              "#bd3786"
             ],
             [
              0.5555555555555556,
              "#d8576b"
             ],
             [
              0.6666666666666666,
              "#ed7953"
             ],
             [
              0.7777777777777778,
              "#fb9f3a"
             ],
             [
              0.8888888888888888,
              "#fdca26"
             ],
             [
              1,
              "#f0f921"
             ]
            ],
            "type": "surface"
           }
          ],
          "table": [
           {
            "cells": {
             "fill": {
              "color": "#EBF0F8"
             },
             "line": {
              "color": "white"
             }
            },
            "header": {
             "fill": {
              "color": "#C8D4E3"
             },
             "line": {
              "color": "white"
             }
            },
            "type": "table"
           }
          ]
         },
         "layout": {
          "annotationdefaults": {
           "arrowcolor": "#2a3f5f",
           "arrowhead": 0,
           "arrowwidth": 1
          },
          "coloraxis": {
           "colorbar": {
            "outlinewidth": 0,
            "ticks": ""
           }
          },
          "colorscale": {
           "diverging": [
            [
             0,
             "#8e0152"
            ],
            [
             0.1,
             "#c51b7d"
            ],
            [
             0.2,
             "#de77ae"
            ],
            [
             0.3,
             "#f1b6da"
            ],
            [
             0.4,
             "#fde0ef"
            ],
            [
             0.5,
             "#f7f7f7"
            ],
            [
             0.6,
             "#e6f5d0"
            ],
            [
             0.7,
             "#b8e186"
            ],
            [
             0.8,
             "#7fbc41"
            ],
            [
             0.9,
             "#4d9221"
            ],
            [
             1,
             "#276419"
            ]
           ],
           "sequential": [
            [
             0,
             "#0d0887"
            ],
            [
             0.1111111111111111,
             "#46039f"
            ],
            [
             0.2222222222222222,
             "#7201a8"
            ],
            [
             0.3333333333333333,
             "#9c179e"
            ],
            [
             0.4444444444444444,
             "#bd3786"
            ],
            [
             0.5555555555555556,
             "#d8576b"
            ],
            [
             0.6666666666666666,
             "#ed7953"
            ],
            [
             0.7777777777777778,
             "#fb9f3a"
            ],
            [
             0.8888888888888888,
             "#fdca26"
            ],
            [
             1,
             "#f0f921"
            ]
           ],
           "sequentialminus": [
            [
             0,
             "#0d0887"
            ],
            [
             0.1111111111111111,
             "#46039f"
            ],
            [
             0.2222222222222222,
             "#7201a8"
            ],
            [
             0.3333333333333333,
             "#9c179e"
            ],
            [
             0.4444444444444444,
             "#bd3786"
            ],
            [
             0.5555555555555556,
             "#d8576b"
            ],
            [
             0.6666666666666666,
             "#ed7953"
            ],
            [
             0.7777777777777778,
             "#fb9f3a"
            ],
            [
             0.8888888888888888,
             "#fdca26"
            ],
            [
             1,
             "#f0f921"
            ]
           ]
          },
          "colorway": [
           "#636efa",
           "#EF553B",
           "#00cc96",
           "#ab63fa",
           "#FFA15A",
           "#19d3f3",
           "#FF6692",
           "#B6E880",
           "#FF97FF",
           "#FECB52"
          ],
          "font": {
           "color": "#2a3f5f"
          },
          "geo": {
           "bgcolor": "white",
           "lakecolor": "white",
           "landcolor": "#E5ECF6",
           "showlakes": true,
           "showland": true,
           "subunitcolor": "white"
          },
          "hoverlabel": {
           "align": "left"
          },
          "hovermode": "closest",
          "mapbox": {
           "style": "light"
          },
          "paper_bgcolor": "white",
          "plot_bgcolor": "#E5ECF6",
          "polar": {
           "angularaxis": {
            "gridcolor": "white",
            "linecolor": "white",
            "ticks": ""
           },
           "bgcolor": "#E5ECF6",
           "radialaxis": {
            "gridcolor": "white",
            "linecolor": "white",
            "ticks": ""
           }
          },
          "scene": {
           "xaxis": {
            "backgroundcolor": "#E5ECF6",
            "gridcolor": "white",
            "gridwidth": 2,
            "linecolor": "white",
            "showbackground": true,
            "ticks": "",
            "zerolinecolor": "white"
           },
           "yaxis": {
            "backgroundcolor": "#E5ECF6",
            "gridcolor": "white",
            "gridwidth": 2,
            "linecolor": "white",
            "showbackground": true,
            "ticks": "",
            "zerolinecolor": "white"
           },
           "zaxis": {
            "backgroundcolor": "#E5ECF6",
            "gridcolor": "white",
            "gridwidth": 2,
            "linecolor": "white",
            "showbackground": true,
            "ticks": "",
            "zerolinecolor": "white"
           }
          },
          "shapedefaults": {
           "line": {
            "color": "#2a3f5f"
           }
          },
          "ternary": {
           "aaxis": {
            "gridcolor": "white",
            "linecolor": "white",
            "ticks": ""
           },
           "baxis": {
            "gridcolor": "white",
            "linecolor": "white",
            "ticks": ""
           },
           "bgcolor": "#E5ECF6",
           "caxis": {
            "gridcolor": "white",
            "linecolor": "white",
            "ticks": ""
           }
          },
          "title": {
           "x": 0.05
          },
          "xaxis": {
           "automargin": true,
           "gridcolor": "white",
           "linecolor": "white",
           "ticks": "",
           "title": {
            "standoff": 15
           },
           "zerolinecolor": "white",
           "zerolinewidth": 2
          },
          "yaxis": {
           "automargin": true,
           "gridcolor": "white",
           "linecolor": "white",
           "ticks": "",
           "title": {
            "standoff": 15
           },
           "zerolinecolor": "white",
           "zerolinewidth": 2
          }
         }
        },
        "width": 1000
       }
      },
      "text/html": [
       "<div>                            <div id=\"11ad8687-a47f-4fad-bb4d-ad89cfaf6a23\" class=\"plotly-graph-div\" style=\"height:700px; width:1000px;\"></div>            <script type=\"text/javascript\">                require([\"plotly\"], function(Plotly) {                    window.PLOTLYENV=window.PLOTLYENV || {};                                    if (document.getElementById(\"11ad8687-a47f-4fad-bb4d-ad89cfaf6a23\")) {                    Plotly.newPlot(                        \"11ad8687-a47f-4fad-bb4d-ad89cfaf6a23\",                        [{\"mode\": \"lines+markers\", \"name\": \"A_diff\", \"type\": \"scatter\", \"x\": [\"input\", \"conv1\", \"conv2\", \"conv3\", \"conv4\", \"conv5\", \"fc6\", \"fc7\", \"fc8\", \"output\"], \"y\": [0.3657438752259856, 0.384738695815551, 0.4264324521581876, 0.48335294491829467, 0.6851286299050698, 0.717631249084794, 0.5770921251035899, 0.48325538400300094, 0.5451892670611026, 0.32427390050647975]}, {\"mode\": \"lines+markers\", \"name\": \"A_same\", \"type\": \"scatter\", \"x\": [\"input\", \"conv1\", \"conv2\", \"conv3\", \"conv4\", \"conv5\", \"fc6\", \"fc7\", \"fc8\", \"output\"], \"y\": [0.32581942413986803, 0.34461486338222486, 0.38643500734684005, 0.4507000961190407, 0.6209543363721103, 0.5692143820922152, 0.33578733775394487, 0.26571604393772946, 0.2879724459240219, 0.2513920928663933]}, {\"mode\": \"lines+markers\", \"name\": \"B_diff\", \"type\": \"scatter\", \"x\": [\"input\", \"conv1\", \"conv2\", \"conv3\", \"conv4\", \"conv5\", \"fc6\", \"fc7\", \"fc8\", \"output\"], \"y\": [0.3483851266985432, 0.3660109792705192, 0.40829140975843564, 0.4787192493224933, 0.6788203183580206, 0.7095377559046576, 0.6162922169712811, 0.5122455798703863, 0.6126259333035247, 0.9348755819276516]}, {\"mode\": \"lines+markers\", \"name\": \"B_same\", \"type\": \"scatter\", \"x\": [\"input\", \"conv1\", \"conv2\", \"conv3\", \"conv4\", \"conv5\", \"fc6\", \"fc7\", \"fc8\", \"output\"], \"y\": [0.3129165512047387, 0.3298261062036326, 0.3713319436518534, 0.44697147762010364, 0.6151047960777525, 0.5632478833978737, 0.3311192234677374, 0.2615106172907333, 0.2874879939555249, 0.10871665572977555]}, {\"mode\": \"lines+markers\", \"name\": \"C_diff\", \"type\": \"scatter\", \"x\": [\"input\", \"conv1\", \"conv2\", \"conv3\", \"conv4\", \"conv5\", \"fc6\", \"fc7\", \"fc8\", \"output\"], \"y\": [0.3522381703870971, 0.36948125826914746, 0.4102620591537643, 0.47307888248111885, 0.6803371016467515, 0.7140660370398607, 0.5842344414588627, 0.4876495607277749, 0.544684696122581, 0.3606243931398569]}, {\"mode\": \"lines+markers\", \"name\": \"C_same\", \"type\": \"scatter\", \"x\": [\"input\", \"conv1\", \"conv2\", \"conv3\", \"conv4\", \"conv5\", \"fc6\", \"fc7\", \"fc8\", \"output\"], \"y\": [0.3102850658197644, 0.32678395792928455, 0.36726100514331284, 0.43668875703872884, 0.6097421751307727, 0.5600643491134729, 0.3275907243329747, 0.2602345508669875, 0.27818349174029133, 0.25234952585084214]}],                        {\"height\": 700, \"template\": {\"data\": {\"bar\": [{\"error_x\": {\"color\": \"#2a3f5f\"}, \"error_y\": {\"color\": \"#2a3f5f\"}, \"marker\": {\"line\": {\"color\": \"#E5ECF6\", \"width\": 0.5}}, \"type\": \"bar\"}], \"barpolar\": [{\"marker\": {\"line\": {\"color\": \"#E5ECF6\", \"width\": 0.5}}, \"type\": \"barpolar\"}], \"carpet\": [{\"aaxis\": {\"endlinecolor\": \"#2a3f5f\", \"gridcolor\": \"white\", \"linecolor\": \"white\", \"minorgridcolor\": \"white\", \"startlinecolor\": \"#2a3f5f\"}, \"baxis\": {\"endlinecolor\": \"#2a3f5f\", \"gridcolor\": \"white\", \"linecolor\": \"white\", \"minorgridcolor\": \"white\", \"startlinecolor\": \"#2a3f5f\"}, \"type\": \"carpet\"}], \"choropleth\": [{\"colorbar\": {\"outlinewidth\": 0, \"ticks\": \"\"}, \"type\": \"choropleth\"}], \"contour\": [{\"colorbar\": {\"outlinewidth\": 0, \"ticks\": \"\"}, \"colorscale\": [[0.0, \"#0d0887\"], [0.1111111111111111, \"#46039f\"], [0.2222222222222222, \"#7201a8\"], [0.3333333333333333, \"#9c179e\"], [0.4444444444444444, \"#bd3786\"], [0.5555555555555556, \"#d8576b\"], [0.6666666666666666, \"#ed7953\"], [0.7777777777777778, \"#fb9f3a\"], [0.8888888888888888, \"#fdca26\"], [1.0, \"#f0f921\"]], \"type\": \"contour\"}], \"contourcarpet\": [{\"colorbar\": {\"outlinewidth\": 0, \"ticks\": \"\"}, \"type\": \"contourcarpet\"}], \"heatmap\": [{\"colorbar\": {\"outlinewidth\": 0, \"ticks\": \"\"}, \"colorscale\": [[0.0, \"#0d0887\"], [0.1111111111111111, \"#46039f\"], [0.2222222222222222, \"#7201a8\"], [0.3333333333333333, \"#9c179e\"], [0.4444444444444444, \"#bd3786\"], [0.5555555555555556, \"#d8576b\"], [0.6666666666666666, \"#ed7953\"], [0.7777777777777778, \"#fb9f3a\"], [0.8888888888888888, \"#fdca26\"], [1.0, \"#f0f921\"]], \"type\": \"heatmap\"}], \"heatmapgl\": [{\"colorbar\": {\"outlinewidth\": 0, \"ticks\": \"\"}, \"colorscale\": [[0.0, \"#0d0887\"], [0.1111111111111111, \"#46039f\"], [0.2222222222222222, \"#7201a8\"], [0.3333333333333333, \"#9c179e\"], [0.4444444444444444, \"#bd3786\"], [0.5555555555555556, \"#d8576b\"], [0.6666666666666666, \"#ed7953\"], [0.7777777777777778, \"#fb9f3a\"], [0.8888888888888888, \"#fdca26\"], [1.0, \"#f0f921\"]], \"type\": \"heatmapgl\"}], \"histogram\": [{\"marker\": {\"colorbar\": {\"outlinewidth\": 0, \"ticks\": \"\"}}, \"type\": \"histogram\"}], \"histogram2d\": [{\"colorbar\": {\"outlinewidth\": 0, \"ticks\": \"\"}, \"colorscale\": [[0.0, \"#0d0887\"], [0.1111111111111111, \"#46039f\"], [0.2222222222222222, \"#7201a8\"], [0.3333333333333333, \"#9c179e\"], [0.4444444444444444, \"#bd3786\"], [0.5555555555555556, \"#d8576b\"], [0.6666666666666666, \"#ed7953\"], [0.7777777777777778, \"#fb9f3a\"], [0.8888888888888888, \"#fdca26\"], [1.0, \"#f0f921\"]], \"type\": \"histogram2d\"}], \"histogram2dcontour\": [{\"colorbar\": {\"outlinewidth\": 0, \"ticks\": \"\"}, \"colorscale\": [[0.0, \"#0d0887\"], [0.1111111111111111, \"#46039f\"], [0.2222222222222222, \"#7201a8\"], [0.3333333333333333, \"#9c179e\"], [0.4444444444444444, \"#bd3786\"], [0.5555555555555556, \"#d8576b\"], [0.6666666666666666, \"#ed7953\"], [0.7777777777777778, \"#fb9f3a\"], [0.8888888888888888, \"#fdca26\"], [1.0, \"#f0f921\"]], \"type\": \"histogram2dcontour\"}], \"mesh3d\": [{\"colorbar\": {\"outlinewidth\": 0, \"ticks\": \"\"}, \"type\": \"mesh3d\"}], \"parcoords\": [{\"line\": {\"colorbar\": {\"outlinewidth\": 0, \"ticks\": \"\"}}, \"type\": \"parcoords\"}], \"pie\": [{\"automargin\": true, \"type\": \"pie\"}], \"scatter\": [{\"marker\": {\"colorbar\": {\"outlinewidth\": 0, \"ticks\": \"\"}}, \"type\": \"scatter\"}], \"scatter3d\": [{\"line\": {\"colorbar\": {\"outlinewidth\": 0, \"ticks\": \"\"}}, \"marker\": {\"colorbar\": {\"outlinewidth\": 0, \"ticks\": \"\"}}, \"type\": \"scatter3d\"}], \"scattercarpet\": [{\"marker\": {\"colorbar\": {\"outlinewidth\": 0, \"ticks\": \"\"}}, \"type\": \"scattercarpet\"}], \"scattergeo\": [{\"marker\": {\"colorbar\": {\"outlinewidth\": 0, \"ticks\": \"\"}}, \"type\": \"scattergeo\"}], \"scattergl\": [{\"marker\": {\"colorbar\": {\"outlinewidth\": 0, \"ticks\": \"\"}}, \"type\": \"scattergl\"}], \"scattermapbox\": [{\"marker\": {\"colorbar\": {\"outlinewidth\": 0, \"ticks\": \"\"}}, \"type\": \"scattermapbox\"}], \"scatterpolar\": [{\"marker\": {\"colorbar\": {\"outlinewidth\": 0, \"ticks\": \"\"}}, \"type\": \"scatterpolar\"}], \"scatterpolargl\": [{\"marker\": {\"colorbar\": {\"outlinewidth\": 0, \"ticks\": \"\"}}, \"type\": \"scatterpolargl\"}], \"scatterternary\": [{\"marker\": {\"colorbar\": {\"outlinewidth\": 0, \"ticks\": \"\"}}, \"type\": \"scatterternary\"}], \"surface\": [{\"colorbar\": {\"outlinewidth\": 0, \"ticks\": \"\"}, \"colorscale\": [[0.0, \"#0d0887\"], [0.1111111111111111, \"#46039f\"], [0.2222222222222222, \"#7201a8\"], [0.3333333333333333, \"#9c179e\"], [0.4444444444444444, \"#bd3786\"], [0.5555555555555556, \"#d8576b\"], [0.6666666666666666, \"#ed7953\"], [0.7777777777777778, \"#fb9f3a\"], [0.8888888888888888, \"#fdca26\"], [1.0, \"#f0f921\"]], \"type\": \"surface\"}], \"table\": [{\"cells\": {\"fill\": {\"color\": \"#EBF0F8\"}, \"line\": {\"color\": \"white\"}}, \"header\": {\"fill\": {\"color\": \"#C8D4E3\"}, \"line\": {\"color\": \"white\"}}, \"type\": \"table\"}]}, \"layout\": {\"annotationdefaults\": {\"arrowcolor\": \"#2a3f5f\", \"arrowhead\": 0, \"arrowwidth\": 1}, \"coloraxis\": {\"colorbar\": {\"outlinewidth\": 0, \"ticks\": \"\"}}, \"colorscale\": {\"diverging\": [[0, \"#8e0152\"], [0.1, \"#c51b7d\"], [0.2, \"#de77ae\"], [0.3, \"#f1b6da\"], [0.4, \"#fde0ef\"], [0.5, \"#f7f7f7\"], [0.6, \"#e6f5d0\"], [0.7, \"#b8e186\"], [0.8, \"#7fbc41\"], [0.9, \"#4d9221\"], [1, \"#276419\"]], \"sequential\": [[0.0, \"#0d0887\"], [0.1111111111111111, \"#46039f\"], [0.2222222222222222, \"#7201a8\"], [0.3333333333333333, \"#9c179e\"], [0.4444444444444444, \"#bd3786\"], [0.5555555555555556, \"#d8576b\"], [0.6666666666666666, \"#ed7953\"], [0.7777777777777778, \"#fb9f3a\"], [0.8888888888888888, \"#fdca26\"], [1.0, \"#f0f921\"]], \"sequentialminus\": [[0.0, \"#0d0887\"], [0.1111111111111111, \"#46039f\"], [0.2222222222222222, \"#7201a8\"], [0.3333333333333333, \"#9c179e\"], [0.4444444444444444, \"#bd3786\"], [0.5555555555555556, \"#d8576b\"], [0.6666666666666666, \"#ed7953\"], [0.7777777777777778, \"#fb9f3a\"], [0.8888888888888888, \"#fdca26\"], [1.0, \"#f0f921\"]]}, \"colorway\": [\"#636efa\", \"#EF553B\", \"#00cc96\", \"#ab63fa\", \"#FFA15A\", \"#19d3f3\", \"#FF6692\", \"#B6E880\", \"#FF97FF\", \"#FECB52\"], \"font\": {\"color\": \"#2a3f5f\"}, \"geo\": {\"bgcolor\": \"white\", \"lakecolor\": \"white\", \"landcolor\": \"#E5ECF6\", \"showlakes\": true, \"showland\": true, \"subunitcolor\": \"white\"}, \"hoverlabel\": {\"align\": \"left\"}, \"hovermode\": \"closest\", \"mapbox\": {\"style\": \"light\"}, \"paper_bgcolor\": \"white\", \"plot_bgcolor\": \"#E5ECF6\", \"polar\": {\"angularaxis\": {\"gridcolor\": \"white\", \"linecolor\": \"white\", \"ticks\": \"\"}, \"bgcolor\": \"#E5ECF6\", \"radialaxis\": {\"gridcolor\": \"white\", \"linecolor\": \"white\", \"ticks\": \"\"}}, \"scene\": {\"xaxis\": {\"backgroundcolor\": \"#E5ECF6\", \"gridcolor\": \"white\", \"gridwidth\": 2, \"linecolor\": \"white\", \"showbackground\": true, \"ticks\": \"\", \"zerolinecolor\": \"white\"}, \"yaxis\": {\"backgroundcolor\": \"#E5ECF6\", \"gridcolor\": \"white\", \"gridwidth\": 2, \"linecolor\": \"white\", \"showbackground\": true, \"ticks\": \"\", \"zerolinecolor\": \"white\"}, \"zaxis\": {\"backgroundcolor\": \"#E5ECF6\", \"gridcolor\": \"white\", \"gridwidth\": 2, \"linecolor\": \"white\", \"showbackground\": true, \"ticks\": \"\", \"zerolinecolor\": \"white\"}}, \"shapedefaults\": {\"line\": {\"color\": \"#2a3f5f\"}}, \"ternary\": {\"aaxis\": {\"gridcolor\": \"white\", \"linecolor\": \"white\", \"ticks\": \"\"}, \"baxis\": {\"gridcolor\": \"white\", \"linecolor\": \"white\", \"ticks\": \"\"}, \"bgcolor\": \"#E5ECF6\", \"caxis\": {\"gridcolor\": \"white\", \"linecolor\": \"white\", \"ticks\": \"\"}}, \"title\": {\"x\": 0.05}, \"xaxis\": {\"automargin\": true, \"gridcolor\": \"white\", \"linecolor\": \"white\", \"ticks\": \"\", \"title\": {\"standoff\": 15}, \"zerolinecolor\": \"white\", \"zerolinewidth\": 2}, \"yaxis\": {\"automargin\": true, \"gridcolor\": \"white\", \"linecolor\": \"white\", \"ticks\": \"\", \"title\": {\"standoff\": 15}, \"zerolinecolor\": \"white\", \"zerolinewidth\": 2}}}, \"width\": 1000},                        {\"responsive\": true}                    ).then(function(){\n",
       "                            \n",
       "var gd = document.getElementById('11ad8687-a47f-4fad-bb4d-ad89cfaf6a23');\n",
       "var x = new MutationObserver(function (mutations, observer) {{\n",
       "        var display = window.getComputedStyle(gd).display;\n",
       "        if (!display || display === 'none') {{\n",
       "            console.log([gd, 'removed!']);\n",
       "            Plotly.purge(gd);\n",
       "            observer.disconnect();\n",
       "        }}\n",
       "}});\n",
       "\n",
       "// Listen for the removal of the full notebook cells\n",
       "var notebookContainer = gd.closest('#notebook-container');\n",
       "if (notebookContainer) {{\n",
       "    x.observe(notebookContainer, {childList: true});\n",
       "}}\n",
       "\n",
       "// Listen for the clearing of the current output cell\n",
       "var outputEl = gd.closest('.output');\n",
       "if (outputEl) {{\n",
       "    x.observe(outputEl, {childList: true});\n",
       "}}\n",
       "\n",
       "                        })                };                });            </script>        </div>"
      ]
     },
     "metadata": {},
     "output_type": "display_data"
    }
   ],
   "source": [
    "fig = go.Figure()\n",
    "fig.update_layout(width=1000, height=700)\n",
    "for pairs_type in means_df.index:\n",
    "    fig.add_trace(go.Scatter(\n",
    "        x = means_df.columns,\n",
    "        y = means_df.query(f'type==\"{pairs_type}\"').values[0],\n",
    "        mode='lines+markers', \n",
    "        name=pairs_type))\n",
    "fig"
   ]
  },
  {
   "cell_type": "code",
   "execution_count": 10,
   "metadata": {},
   "outputs": [
    {
     "ename": "ValueError",
     "evalue": "\nThe orca executable is required in order to export figures as static images,\nbut the executable that was found at '/usr/bin/orca'\ndoes not seem to be a valid plotly orca executable. Please refer to the end of\nthis message for details on what went wrong.\n\nIf you haven't installed orca yet, you can do so using conda as follows:\n\n    $ conda install -c plotly plotly-orca\n\nAlternatively, see other installation methods in the orca project README at\nhttps://github.com/plotly/orca\n\nAfter installation is complete, no further configuration should be needed.\n\nIf you have installed orca, then for some reason plotly.py was unable to\nlocate it. In this case, set the `plotly.io.orca.config.executable`\nproperty to the full path of your orca executable. For example:\n\n    >>> plotly.io.orca.config.executable = '/path/to/orca'\n\nAfter updating this executable property, try the export operation again.\nIf it is successful then you may want to save this configuration so that it\nwill be applied automatically in future sessions. You can do this as follows:\n\n    >>> plotly.io.orca.config.save()\n\nIf you're still having trouble, feel free to ask for help on the forums at\nhttps://community.plot.ly/c/api/python\n\nThe error encountered is that unexpected output was returned by the command\n    $ /usr/bin/orca --help\n\nb'Usage: orca [-h] [-v] [-r] [-s] [-l] [-e OPTION] [-d OPTION] [-p NAME]\\n            [-u DIR] [--debug-file FILE] [--debug]\\n\\nOptional arguments:\\n  -h, --help                   Show this help message and exit\\n  -v, --version                3.34.0\\n  -r, --replace                Replace a currently running instance of this\\n                               screen reader\\n  -s, --setup                  Set up user preferences (GUI version)\\n  -l, --list-apps              \\xd7\\x94\\xd7\\xa6\\xd7\\x92 \\xd7\\xa8\\xd7\\xa9\\xd7\\x99\\xd7\\x9e\\xd7\\x94 \\xd7\\xa9\\xd7\\x9c \\xd7\\x99\\xd7\\x99\\xd7\\xa9\\xd7\\x95\\xd7\\x9e\\xd7\\x99\\xd7\\x9d \\xd7\\x99\\xd7\\x93\\xd7\\x95\\xd7\\xa2\\xd7\\x99\\xd7\\x9d\\n  -e OPTION, --enable OPTION   Force use of option\\n  -d OPTION, --disable OPTION  Prevent use of option\\n  -p NAME, --profile NAME      Load profile\\n  -u DIR, --user-prefs DIR     Use alternate directory for user preferences\\n  --debug-file FILE            Send debug output to the specified file\\n  --debug                      Send debug output to debug-YYYY-MM-DD-\\n                               HH:MM:SS.out\\n\\nReport bugs to orca-list@gnome.org.\\n'\n",
     "output_type": "error",
     "traceback": [
      "\u001b[0;31m---------------------------------------------------------------------------\u001b[0m",
      "\u001b[0;31mValueError\u001b[0m                                Traceback (most recent call last)",
      "\u001b[0;32m<ipython-input-10-8096216e3817>\u001b[0m in \u001b[0;36m<module>\u001b[0;34m\u001b[0m\n\u001b[0;32m----> 1\u001b[0;31m \u001b[0mfig\u001b[0m\u001b[0;34m.\u001b[0m\u001b[0mwrite_image\u001b[0m\u001b[0;34m(\u001b[0m\u001b[0;34m'/home/administrator/experiments/familiarity/B_measurements.jpeg'\u001b[0m\u001b[0;34m)\u001b[0m\u001b[0;34m\u001b[0m\u001b[0;34m\u001b[0m\u001b[0m\n\u001b[0m",
      "\u001b[0;32m~/anaconda3/envs/facial_feature_impact_comparison/lib/python3.8/site-packages/plotly/basedatatypes.py\u001b[0m in \u001b[0;36mwrite_image\u001b[0;34m(self, *args, **kwargs)\u001b[0m\n\u001b[1;32m   3278\u001b[0m         \u001b[0;32mimport\u001b[0m \u001b[0mplotly\u001b[0m\u001b[0;34m.\u001b[0m\u001b[0mio\u001b[0m \u001b[0;32mas\u001b[0m \u001b[0mpio\u001b[0m\u001b[0;34m\u001b[0m\u001b[0;34m\u001b[0m\u001b[0m\n\u001b[1;32m   3279\u001b[0m \u001b[0;34m\u001b[0m\u001b[0m\n\u001b[0;32m-> 3280\u001b[0;31m         \u001b[0;32mreturn\u001b[0m \u001b[0mpio\u001b[0m\u001b[0;34m.\u001b[0m\u001b[0mwrite_image\u001b[0m\u001b[0;34m(\u001b[0m\u001b[0mself\u001b[0m\u001b[0;34m,\u001b[0m \u001b[0;34m*\u001b[0m\u001b[0margs\u001b[0m\u001b[0;34m,\u001b[0m \u001b[0;34m**\u001b[0m\u001b[0mkwargs\u001b[0m\u001b[0;34m)\u001b[0m\u001b[0;34m\u001b[0m\u001b[0;34m\u001b[0m\u001b[0m\n\u001b[0m\u001b[1;32m   3281\u001b[0m \u001b[0;34m\u001b[0m\u001b[0m\n\u001b[1;32m   3282\u001b[0m     \u001b[0;31m# Static helpers\u001b[0m\u001b[0;34m\u001b[0m\u001b[0;34m\u001b[0m\u001b[0;34m\u001b[0m\u001b[0m\n",
      "\u001b[0;32m~/anaconda3/envs/facial_feature_impact_comparison/lib/python3.8/site-packages/plotly/io/_kaleido.py\u001b[0m in \u001b[0;36mwrite_image\u001b[0;34m(fig, file, format, scale, width, height, validate, engine)\u001b[0m\n\u001b[1;32m    243\u001b[0m     \u001b[0;31m# -------------\u001b[0m\u001b[0;34m\u001b[0m\u001b[0;34m\u001b[0m\u001b[0;34m\u001b[0m\u001b[0m\n\u001b[1;32m    244\u001b[0m     \u001b[0;31m# Do this first so we don't create a file if image conversion fails\u001b[0m\u001b[0;34m\u001b[0m\u001b[0;34m\u001b[0m\u001b[0;34m\u001b[0m\u001b[0m\n\u001b[0;32m--> 245\u001b[0;31m     img_data = to_image(\n\u001b[0m\u001b[1;32m    246\u001b[0m         \u001b[0mfig\u001b[0m\u001b[0;34m,\u001b[0m\u001b[0;34m\u001b[0m\u001b[0;34m\u001b[0m\u001b[0m\n\u001b[1;32m    247\u001b[0m         \u001b[0mformat\u001b[0m\u001b[0;34m=\u001b[0m\u001b[0mformat\u001b[0m\u001b[0;34m,\u001b[0m\u001b[0;34m\u001b[0m\u001b[0;34m\u001b[0m\u001b[0m\n",
      "\u001b[0;32m~/anaconda3/envs/facial_feature_impact_comparison/lib/python3.8/site-packages/plotly/io/_kaleido.py\u001b[0m in \u001b[0;36mto_image\u001b[0;34m(fig, format, width, height, scale, validate, engine)\u001b[0m\n\u001b[1;32m    101\u001b[0m         \u001b[0;32mfrom\u001b[0m \u001b[0;34m.\u001b[0m\u001b[0m_orca\u001b[0m \u001b[0;32mimport\u001b[0m \u001b[0mto_image\u001b[0m \u001b[0;32mas\u001b[0m \u001b[0mto_image_orca\u001b[0m\u001b[0;34m\u001b[0m\u001b[0;34m\u001b[0m\u001b[0m\n\u001b[1;32m    102\u001b[0m \u001b[0;34m\u001b[0m\u001b[0m\n\u001b[0;32m--> 103\u001b[0;31m         return to_image_orca(\n\u001b[0m\u001b[1;32m    104\u001b[0m             \u001b[0mfig\u001b[0m\u001b[0;34m,\u001b[0m\u001b[0;34m\u001b[0m\u001b[0;34m\u001b[0m\u001b[0m\n\u001b[1;32m    105\u001b[0m             \u001b[0mformat\u001b[0m\u001b[0;34m=\u001b[0m\u001b[0mformat\u001b[0m\u001b[0;34m,\u001b[0m\u001b[0;34m\u001b[0m\u001b[0;34m\u001b[0m\u001b[0m\n",
      "\u001b[0;32m~/anaconda3/envs/facial_feature_impact_comparison/lib/python3.8/site-packages/plotly/io/_orca.py\u001b[0m in \u001b[0;36mto_image\u001b[0;34m(fig, format, width, height, scale, validate)\u001b[0m\n\u001b[1;32m   1533\u001b[0m     \u001b[0;31m# Make sure orca sever is running\u001b[0m\u001b[0;34m\u001b[0m\u001b[0;34m\u001b[0m\u001b[0;34m\u001b[0m\u001b[0m\n\u001b[1;32m   1534\u001b[0m     \u001b[0;31m# -------------------------------\u001b[0m\u001b[0;34m\u001b[0m\u001b[0;34m\u001b[0m\u001b[0;34m\u001b[0m\u001b[0m\n\u001b[0;32m-> 1535\u001b[0;31m     \u001b[0mensure_server\u001b[0m\u001b[0;34m(\u001b[0m\u001b[0;34m)\u001b[0m\u001b[0;34m\u001b[0m\u001b[0;34m\u001b[0m\u001b[0m\n\u001b[0m\u001b[1;32m   1536\u001b[0m \u001b[0;34m\u001b[0m\u001b[0m\n\u001b[1;32m   1537\u001b[0m     \u001b[0;31m# Handle defaults\u001b[0m\u001b[0;34m\u001b[0m\u001b[0;34m\u001b[0m\u001b[0;34m\u001b[0m\u001b[0m\n",
      "\u001b[0;32m~/anaconda3/envs/facial_feature_impact_comparison/lib/python3.8/site-packages/plotly/io/_orca.py\u001b[0m in \u001b[0;36mensure_server\u001b[0;34m()\u001b[0m\n\u001b[1;32m   1388\u001b[0m         \u001b[0;31m# Validate orca executable only if server_url is not provided\u001b[0m\u001b[0;34m\u001b[0m\u001b[0;34m\u001b[0m\u001b[0;34m\u001b[0m\u001b[0m\n\u001b[1;32m   1389\u001b[0m         \u001b[0;32mif\u001b[0m \u001b[0mstatus\u001b[0m\u001b[0;34m.\u001b[0m\u001b[0mstate\u001b[0m \u001b[0;34m==\u001b[0m \u001b[0;34m\"unvalidated\"\u001b[0m\u001b[0;34m:\u001b[0m\u001b[0;34m\u001b[0m\u001b[0;34m\u001b[0m\u001b[0m\n\u001b[0;32m-> 1390\u001b[0;31m             \u001b[0mvalidate_executable\u001b[0m\u001b[0;34m(\u001b[0m\u001b[0;34m)\u001b[0m\u001b[0;34m\u001b[0m\u001b[0;34m\u001b[0m\u001b[0m\n\u001b[0m\u001b[1;32m   1391\u001b[0m         \u001b[0;31m# Acquire lock to make sure that we keep the properties of orca_state\u001b[0m\u001b[0;34m\u001b[0m\u001b[0;34m\u001b[0m\u001b[0;34m\u001b[0m\u001b[0m\n\u001b[1;32m   1392\u001b[0m         \u001b[0;31m# consistent across threads\u001b[0m\u001b[0;34m\u001b[0m\u001b[0;34m\u001b[0m\u001b[0;34m\u001b[0m\u001b[0m\n",
      "\u001b[0;32m~/anaconda3/envs/facial_feature_impact_comparison/lib/python3.8/site-packages/plotly/io/_orca.py\u001b[0m in \u001b[0;36mvalidate_executable\u001b[0;34m()\u001b[0m\n\u001b[1;32m   1196\u001b[0m \u001b[0;34m\u001b[0m\u001b[0m\n\u001b[1;32m   1197\u001b[0m     \u001b[0;32mif\u001b[0m \u001b[0;34m\"Plotly's image-exporting utilities\"\u001b[0m \u001b[0;32mnot\u001b[0m \u001b[0;32min\u001b[0m \u001b[0mhelp_result\u001b[0m\u001b[0;34m.\u001b[0m\u001b[0mdecode\u001b[0m\u001b[0;34m(\u001b[0m\u001b[0;34m\"utf-8\"\u001b[0m\u001b[0;34m)\u001b[0m\u001b[0;34m:\u001b[0m\u001b[0;34m\u001b[0m\u001b[0;34m\u001b[0m\u001b[0m\n\u001b[0;32m-> 1198\u001b[0;31m         raise ValueError(\n\u001b[0m\u001b[1;32m   1199\u001b[0m             \u001b[0minvalid_executable_msg\u001b[0m\u001b[0;34m\u001b[0m\u001b[0;34m\u001b[0m\u001b[0m\n\u001b[1;32m   1200\u001b[0m             + \"\"\"\n",
      "\u001b[0;31mValueError\u001b[0m: \nThe orca executable is required in order to export figures as static images,\nbut the executable that was found at '/usr/bin/orca'\ndoes not seem to be a valid plotly orca executable. Please refer to the end of\nthis message for details on what went wrong.\n\nIf you haven't installed orca yet, you can do so using conda as follows:\n\n    $ conda install -c plotly plotly-orca\n\nAlternatively, see other installation methods in the orca project README at\nhttps://github.com/plotly/orca\n\nAfter installation is complete, no further configuration should be needed.\n\nIf you have installed orca, then for some reason plotly.py was unable to\nlocate it. In this case, set the `plotly.io.orca.config.executable`\nproperty to the full path of your orca executable. For example:\n\n    >>> plotly.io.orca.config.executable = '/path/to/orca'\n\nAfter updating this executable property, try the export operation again.\nIf it is successful then you may want to save this configuration so that it\nwill be applied automatically in future sessions. You can do this as follows:\n\n    >>> plotly.io.orca.config.save()\n\nIf you're still having trouble, feel free to ask for help on the forums at\nhttps://community.plot.ly/c/api/python\n\nThe error encountered is that unexpected output was returned by the command\n    $ /usr/bin/orca --help\n\nb'Usage: orca [-h] [-v] [-r] [-s] [-l] [-e OPTION] [-d OPTION] [-p NAME]\\n            [-u DIR] [--debug-file FILE] [--debug]\\n\\nOptional arguments:\\n  -h, --help                   Show this help message and exit\\n  -v, --version                3.34.0\\n  -r, --replace                Replace a currently running instance of this\\n                               screen reader\\n  -s, --setup                  Set up user preferences (GUI version)\\n  -l, --list-apps              \\xd7\\x94\\xd7\\xa6\\xd7\\x92 \\xd7\\xa8\\xd7\\xa9\\xd7\\x99\\xd7\\x9e\\xd7\\x94 \\xd7\\xa9\\xd7\\x9c \\xd7\\x99\\xd7\\x99\\xd7\\xa9\\xd7\\x95\\xd7\\x9e\\xd7\\x99\\xd7\\x9d \\xd7\\x99\\xd7\\x93\\xd7\\x95\\xd7\\xa2\\xd7\\x99\\xd7\\x9d\\n  -e OPTION, --enable OPTION   Force use of option\\n  -d OPTION, --disable OPTION  Prevent use of option\\n  -p NAME, --profile NAME      Load profile\\n  -u DIR, --user-prefs DIR     Use alternate directory for user preferences\\n  --debug-file FILE            Send debug output to the specified file\\n  --debug                      Send debug output to debug-YYYY-MM-DD-\\n                               HH:MM:SS.out\\n\\nReport bugs to orca-list@gnome.org.\\n'\n"
     ]
    }
   ],
   "source": [
    "fig.write_image('/home/administrator/experiments/familiarity/B_measurements.jpeg')"
   ]
  }
 ],
 "metadata": {
  "kernelspec": {
   "display_name": "Python 3",
   "language": "python",
   "name": "python3"
  },
  "language_info": {
   "codemirror_mode": {
    "name": "ipython",
    "version": 3
   },
   "file_extension": ".py",
   "mimetype": "text/x-python",
   "name": "python",
   "nbconvert_exporter": "python",
   "pygments_lexer": "ipython3",
   "version": "3.8.5"
  }
 },
 "nbformat": 4,
 "nbformat_minor": 4
}
