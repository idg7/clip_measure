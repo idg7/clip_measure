{
 "cells": [
  {
   "cell_type": "code",
   "execution_count": 2,
   "metadata": {},
   "outputs": [],
   "source": [
    "import pickle\n",
    "import plotly\n",
    "import numpy\n",
    "import plotly.graph_objects as go\n",
    "import pandas as pd"
   ]
  },
  {
   "cell_type": "code",
   "execution_count": 56,
   "metadata": {},
   "outputs": [],
   "source": [
    "df = pd.read_csv('/home/administrator/experiments/high_importance_features_full_dataset/vgg16/results/comparisons.csv')"
   ]
  },
  {
   "cell_type": "code",
   "execution_count": 57,
   "metadata": {},
   "outputs": [
    {
     "data": {
      "text/html": [
       "<div>\n",
       "<style scoped>\n",
       "    .dataframe tbody tr th:only-of-type {\n",
       "        vertical-align: middle;\n",
       "    }\n",
       "\n",
       "    .dataframe tbody tr th {\n",
       "        vertical-align: top;\n",
       "    }\n",
       "\n",
       "    .dataframe thead th {\n",
       "        text-align: right;\n",
       "    }\n",
       "</style>\n",
       "<table border=\"1\" class=\"dataframe\">\n",
       "  <thead>\n",
       "    <tr style=\"text-align: right;\">\n",
       "      <th></th>\n",
       "      <th>Unnamed: 0</th>\n",
       "      <th>conv5</th>\n",
       "      <th>conv3</th>\n",
       "      <th>output</th>\n",
       "      <th>conv1</th>\n",
       "      <th>fc8</th>\n",
       "      <th>conv4</th>\n",
       "      <th>conv2</th>\n",
       "      <th>fc6</th>\n",
       "      <th>input</th>\n",
       "      <th>fc7</th>\n",
       "      <th>type</th>\n",
       "    </tr>\n",
       "  </thead>\n",
       "  <tbody>\n",
       "    <tr>\n",
       "      <th>0</th>\n",
       "      <td>('ak_ref.png', 'ba_ref.png')</td>\n",
       "      <td>106.791240</td>\n",
       "      <td>866.20950</td>\n",
       "      <td>212.027570</td>\n",
       "      <td>353.84946</td>\n",
       "      <td>212.027570</td>\n",
       "      <td>338.02118</td>\n",
       "      <td>672.27040</td>\n",
       "      <td>83.350950</td>\n",
       "      <td>176.92738</td>\n",
       "      <td>84.109604</td>\n",
       "      <td>diff_pairs</td>\n",
       "    </tr>\n",
       "    <tr>\n",
       "      <th>1</th>\n",
       "      <td>('ba_ref.png', 'dd_ref.png')</td>\n",
       "      <td>111.736810</td>\n",
       "      <td>793.66850</td>\n",
       "      <td>271.531370</td>\n",
       "      <td>271.50845</td>\n",
       "      <td>271.531370</td>\n",
       "      <td>361.74326</td>\n",
       "      <td>522.19904</td>\n",
       "      <td>85.813900</td>\n",
       "      <td>142.59695</td>\n",
       "      <td>89.116400</td>\n",
       "      <td>diff_pairs</td>\n",
       "    </tr>\n",
       "    <tr>\n",
       "      <th>2</th>\n",
       "      <td>('dd_ref.png', 'gc_ref.png')</td>\n",
       "      <td>117.954370</td>\n",
       "      <td>710.31116</td>\n",
       "      <td>328.644350</td>\n",
       "      <td>227.70758</td>\n",
       "      <td>328.644350</td>\n",
       "      <td>331.13995</td>\n",
       "      <td>448.14764</td>\n",
       "      <td>99.726990</td>\n",
       "      <td>118.91895</td>\n",
       "      <td>101.260216</td>\n",
       "      <td>diff_pairs</td>\n",
       "    </tr>\n",
       "    <tr>\n",
       "      <th>3</th>\n",
       "      <td>('gc_ref.png', 'jb_ref.png')</td>\n",
       "      <td>130.890560</td>\n",
       "      <td>686.19806</td>\n",
       "      <td>330.819400</td>\n",
       "      <td>238.32635</td>\n",
       "      <td>330.819400</td>\n",
       "      <td>328.81530</td>\n",
       "      <td>447.05728</td>\n",
       "      <td>106.291824</td>\n",
       "      <td>137.08290</td>\n",
       "      <td>101.212570</td>\n",
       "      <td>diff_pairs</td>\n",
       "    </tr>\n",
       "    <tr>\n",
       "      <th>4</th>\n",
       "      <td>('jb_ref.png', 'js_ref.png')</td>\n",
       "      <td>122.712630</td>\n",
       "      <td>726.12140</td>\n",
       "      <td>279.474550</td>\n",
       "      <td>294.75372</td>\n",
       "      <td>279.474550</td>\n",
       "      <td>330.42072</td>\n",
       "      <td>491.26523</td>\n",
       "      <td>101.878880</td>\n",
       "      <td>162.42976</td>\n",
       "      <td>99.328100</td>\n",
       "      <td>diff_pairs</td>\n",
       "    </tr>\n",
       "    <tr>\n",
       "      <th>...</th>\n",
       "      <td>...</td>\n",
       "      <td>...</td>\n",
       "      <td>...</td>\n",
       "      <td>...</td>\n",
       "      <td>...</td>\n",
       "      <td>...</td>\n",
       "      <td>...</td>\n",
       "      <td>...</td>\n",
       "      <td>...</td>\n",
       "      <td>...</td>\n",
       "      <td>...</td>\n",
       "      <td>...</td>\n",
       "    </tr>\n",
       "    <tr>\n",
       "      <th>136</th>\n",
       "      <td>('frontal/aligned/64_set1_0.jpg', 'half-left/c...</td>\n",
       "      <td>94.917840</td>\n",
       "      <td>950.17000</td>\n",
       "      <td>114.639290</td>\n",
       "      <td>610.59650</td>\n",
       "      <td>114.639290</td>\n",
       "      <td>345.81992</td>\n",
       "      <td>1127.34550</td>\n",
       "      <td>54.081420</td>\n",
       "      <td>259.48337</td>\n",
       "      <td>48.819313</td>\n",
       "      <td>frontal-half_left</td>\n",
       "    </tr>\n",
       "    <tr>\n",
       "      <th>137</th>\n",
       "      <td>('frontal/aligned/80_set1_0.jpg', 'half-left/c...</td>\n",
       "      <td>98.848366</td>\n",
       "      <td>922.17090</td>\n",
       "      <td>148.976840</td>\n",
       "      <td>613.85315</td>\n",
       "      <td>148.976840</td>\n",
       "      <td>345.26834</td>\n",
       "      <td>1116.07420</td>\n",
       "      <td>58.331562</td>\n",
       "      <td>264.24377</td>\n",
       "      <td>57.650352</td>\n",
       "      <td>frontal-half_left</td>\n",
       "    </tr>\n",
       "    <tr>\n",
       "      <th>138</th>\n",
       "      <td>('frontal/aligned/81_set1_0.jpg', 'half-left/c...</td>\n",
       "      <td>100.055435</td>\n",
       "      <td>952.05770</td>\n",
       "      <td>175.413310</td>\n",
       "      <td>662.74140</td>\n",
       "      <td>175.413310</td>\n",
       "      <td>352.80878</td>\n",
       "      <td>1185.96030</td>\n",
       "      <td>66.923240</td>\n",
       "      <td>271.73260</td>\n",
       "      <td>65.818726</td>\n",
       "      <td>frontal-half_left</td>\n",
       "    </tr>\n",
       "    <tr>\n",
       "      <th>139</th>\n",
       "      <td>('frontal/aligned/82_set1_0.jpg', 'half-left/c...</td>\n",
       "      <td>84.621560</td>\n",
       "      <td>927.64386</td>\n",
       "      <td>198.214690</td>\n",
       "      <td>584.06300</td>\n",
       "      <td>198.214690</td>\n",
       "      <td>313.86737</td>\n",
       "      <td>1085.37060</td>\n",
       "      <td>61.145874</td>\n",
       "      <td>251.23670</td>\n",
       "      <td>64.490135</td>\n",
       "      <td>frontal-half_left</td>\n",
       "    </tr>\n",
       "    <tr>\n",
       "      <th>140</th>\n",
       "      <td>('frontal/aligned/83_set1_0.jpg', 'half-left/c...</td>\n",
       "      <td>91.645950</td>\n",
       "      <td>830.82620</td>\n",
       "      <td>111.732834</td>\n",
       "      <td>551.52480</td>\n",
       "      <td>111.732834</td>\n",
       "      <td>302.99220</td>\n",
       "      <td>1070.77160</td>\n",
       "      <td>54.382553</td>\n",
       "      <td>192.81659</td>\n",
       "      <td>50.632305</td>\n",
       "      <td>frontal-half_left</td>\n",
       "    </tr>\n",
       "  </tbody>\n",
       "</table>\n",
       "<p>141 rows × 12 columns</p>\n",
       "</div>"
      ],
      "text/plain": [
       "                                            Unnamed: 0       conv5      conv3  \\\n",
       "0                         ('ak_ref.png', 'ba_ref.png')  106.791240  866.20950   \n",
       "1                         ('ba_ref.png', 'dd_ref.png')  111.736810  793.66850   \n",
       "2                         ('dd_ref.png', 'gc_ref.png')  117.954370  710.31116   \n",
       "3                         ('gc_ref.png', 'jb_ref.png')  130.890560  686.19806   \n",
       "4                         ('jb_ref.png', 'js_ref.png')  122.712630  726.12140   \n",
       "..                                                 ...         ...        ...   \n",
       "136  ('frontal/aligned/64_set1_0.jpg', 'half-left/c...   94.917840  950.17000   \n",
       "137  ('frontal/aligned/80_set1_0.jpg', 'half-left/c...   98.848366  922.17090   \n",
       "138  ('frontal/aligned/81_set1_0.jpg', 'half-left/c...  100.055435  952.05770   \n",
       "139  ('frontal/aligned/82_set1_0.jpg', 'half-left/c...   84.621560  927.64386   \n",
       "140  ('frontal/aligned/83_set1_0.jpg', 'half-left/c...   91.645950  830.82620   \n",
       "\n",
       "         output      conv1         fc8      conv4       conv2         fc6  \\\n",
       "0    212.027570  353.84946  212.027570  338.02118   672.27040   83.350950   \n",
       "1    271.531370  271.50845  271.531370  361.74326   522.19904   85.813900   \n",
       "2    328.644350  227.70758  328.644350  331.13995   448.14764   99.726990   \n",
       "3    330.819400  238.32635  330.819400  328.81530   447.05728  106.291824   \n",
       "4    279.474550  294.75372  279.474550  330.42072   491.26523  101.878880   \n",
       "..          ...        ...         ...        ...         ...         ...   \n",
       "136  114.639290  610.59650  114.639290  345.81992  1127.34550   54.081420   \n",
       "137  148.976840  613.85315  148.976840  345.26834  1116.07420   58.331562   \n",
       "138  175.413310  662.74140  175.413310  352.80878  1185.96030   66.923240   \n",
       "139  198.214690  584.06300  198.214690  313.86737  1085.37060   61.145874   \n",
       "140  111.732834  551.52480  111.732834  302.99220  1070.77160   54.382553   \n",
       "\n",
       "         input         fc7               type  \n",
       "0    176.92738   84.109604         diff_pairs  \n",
       "1    142.59695   89.116400         diff_pairs  \n",
       "2    118.91895  101.260216         diff_pairs  \n",
       "3    137.08290  101.212570         diff_pairs  \n",
       "4    162.42976   99.328100         diff_pairs  \n",
       "..         ...         ...                ...  \n",
       "136  259.48337   48.819313  frontal-half_left  \n",
       "137  264.24377   57.650352  frontal-half_left  \n",
       "138  271.73260   65.818726  frontal-half_left  \n",
       "139  251.23670   64.490135  frontal-half_left  \n",
       "140  192.81659   50.632305  frontal-half_left  \n",
       "\n",
       "[141 rows x 12 columns]"
      ]
     },
     "execution_count": 57,
     "metadata": {},
     "output_type": "execute_result"
    }
   ],
   "source": [
    "df"
   ]
  },
  {
   "cell_type": "code",
   "execution_count": 58,
   "metadata": {},
   "outputs": [],
   "source": [
    "df = df[['Unnamed: 0', 'input', 'conv1', 'conv2', 'conv3', 'conv4', 'conv5', 'fc6', 'fc7', 'fc8','type' ]]\n",
    "# df = df[~df.type.str.contains(\"frontal\")]\n"
   ]
  },
  {
   "cell_type": "code",
   "execution_count": 59,
   "metadata": {},
   "outputs": [],
   "source": [
    "max_value_df = df.max()\n",
    "df = df.reset_index(drop=True)\n"
   ]
  },
  {
   "cell_type": "code",
   "execution_count": 60,
   "metadata": {},
   "outputs": [],
   "source": [
    "del df['Unnamed: 0']"
   ]
  },
  {
   "cell_type": "code",
   "execution_count": 61,
   "metadata": {},
   "outputs": [],
   "source": [
    "for x in df.drop(columns=['type']).columns:\n",
    "    df[x]= ((df[x])/(df[x].max()))\n",
    "means_df = df.groupby(['type']).mean()\n",
    "means_df = means_df.rename_axis(\"layers\", axis=\"columns\")"
   ]
  },
  {
   "cell_type": "code",
   "execution_count": 62,
   "metadata": {},
   "outputs": [
    {
     "data": {
      "text/html": [
       "<div>\n",
       "<style scoped>\n",
       "    .dataframe tbody tr th:only-of-type {\n",
       "        vertical-align: middle;\n",
       "    }\n",
       "\n",
       "    .dataframe tbody tr th {\n",
       "        vertical-align: top;\n",
       "    }\n",
       "\n",
       "    .dataframe thead th {\n",
       "        text-align: right;\n",
       "    }\n",
       "</style>\n",
       "<table border=\"1\" class=\"dataframe\">\n",
       "  <thead>\n",
       "    <tr style=\"text-align: right;\">\n",
       "      <th>layers</th>\n",
       "      <th>input</th>\n",
       "      <th>conv1</th>\n",
       "      <th>conv2</th>\n",
       "      <th>conv3</th>\n",
       "      <th>conv4</th>\n",
       "      <th>conv5</th>\n",
       "      <th>fc6</th>\n",
       "      <th>fc7</th>\n",
       "      <th>fc8</th>\n",
       "    </tr>\n",
       "    <tr>\n",
       "      <th>type</th>\n",
       "      <th></th>\n",
       "      <th></th>\n",
       "      <th></th>\n",
       "      <th></th>\n",
       "      <th></th>\n",
       "      <th></th>\n",
       "      <th></th>\n",
       "      <th></th>\n",
       "      <th></th>\n",
       "    </tr>\n",
       "  </thead>\n",
       "  <tbody>\n",
       "    <tr>\n",
       "      <th>diff_pairs</th>\n",
       "      <td>0.446347</td>\n",
       "      <td>0.399602</td>\n",
       "      <td>0.410067</td>\n",
       "      <td>0.729377</td>\n",
       "      <td>0.780109</td>\n",
       "      <td>0.825808</td>\n",
       "      <td>0.820398</td>\n",
       "      <td>0.784074</td>\n",
       "      <td>0.690038</td>\n",
       "    </tr>\n",
       "    <tr>\n",
       "      <th>frontal-half_left</th>\n",
       "      <td>0.842708</td>\n",
       "      <td>0.899234</td>\n",
       "      <td>0.923944</td>\n",
       "      <td>0.939608</td>\n",
       "      <td>0.823324</td>\n",
       "      <td>0.666489</td>\n",
       "      <td>0.489056</td>\n",
       "      <td>0.454279</td>\n",
       "      <td>0.332440</td>\n",
       "    </tr>\n",
       "    <tr>\n",
       "      <th>frontal-quarter_left</th>\n",
       "      <td>0.729969</td>\n",
       "      <td>0.727604</td>\n",
       "      <td>0.823213</td>\n",
       "      <td>0.915228</td>\n",
       "      <td>0.761921</td>\n",
       "      <td>0.537057</td>\n",
       "      <td>0.376852</td>\n",
       "      <td>0.346796</td>\n",
       "      <td>0.239808</td>\n",
       "    </tr>\n",
       "    <tr>\n",
       "      <th>frontal-ref</th>\n",
       "      <td>0.342660</td>\n",
       "      <td>0.338895</td>\n",
       "      <td>0.412370</td>\n",
       "      <td>0.631289</td>\n",
       "      <td>0.482714</td>\n",
       "      <td>0.320453</td>\n",
       "      <td>0.239370</td>\n",
       "      <td>0.221439</td>\n",
       "      <td>0.148713</td>\n",
       "    </tr>\n",
       "    <tr>\n",
       "      <th>high_ps_pairs</th>\n",
       "      <td>0.442578</td>\n",
       "      <td>0.413325</td>\n",
       "      <td>0.422141</td>\n",
       "      <td>0.722279</td>\n",
       "      <td>0.759825</td>\n",
       "      <td>0.800127</td>\n",
       "      <td>0.819369</td>\n",
       "      <td>0.788803</td>\n",
       "      <td>0.719416</td>\n",
       "    </tr>\n",
       "    <tr>\n",
       "      <th>low_ps_pairs</th>\n",
       "      <td>0.468738</td>\n",
       "      <td>0.392878</td>\n",
       "      <td>0.398010</td>\n",
       "      <td>0.694187</td>\n",
       "      <td>0.680367</td>\n",
       "      <td>0.635872</td>\n",
       "      <td>0.596856</td>\n",
       "      <td>0.580035</td>\n",
       "      <td>0.462740</td>\n",
       "    </tr>\n",
       "    <tr>\n",
       "      <th>same_pairs</th>\n",
       "      <td>0.376712</td>\n",
       "      <td>0.347688</td>\n",
       "      <td>0.380365</td>\n",
       "      <td>0.662359</td>\n",
       "      <td>0.613414</td>\n",
       "      <td>0.455919</td>\n",
       "      <td>0.342332</td>\n",
       "      <td>0.317836</td>\n",
       "      <td>0.219965</td>\n",
       "    </tr>\n",
       "  </tbody>\n",
       "</table>\n",
       "</div>"
      ],
      "text/plain": [
       "layers                   input     conv1     conv2     conv3     conv4  \\\n",
       "type                                                                     \n",
       "diff_pairs            0.446347  0.399602  0.410067  0.729377  0.780109   \n",
       "frontal-half_left     0.842708  0.899234  0.923944  0.939608  0.823324   \n",
       "frontal-quarter_left  0.729969  0.727604  0.823213  0.915228  0.761921   \n",
       "frontal-ref           0.342660  0.338895  0.412370  0.631289  0.482714   \n",
       "high_ps_pairs         0.442578  0.413325  0.422141  0.722279  0.759825   \n",
       "low_ps_pairs          0.468738  0.392878  0.398010  0.694187  0.680367   \n",
       "same_pairs            0.376712  0.347688  0.380365  0.662359  0.613414   \n",
       "\n",
       "layers                   conv5       fc6       fc7       fc8  \n",
       "type                                                          \n",
       "diff_pairs            0.825808  0.820398  0.784074  0.690038  \n",
       "frontal-half_left     0.666489  0.489056  0.454279  0.332440  \n",
       "frontal-quarter_left  0.537057  0.376852  0.346796  0.239808  \n",
       "frontal-ref           0.320453  0.239370  0.221439  0.148713  \n",
       "high_ps_pairs         0.800127  0.819369  0.788803  0.719416  \n",
       "low_ps_pairs          0.635872  0.596856  0.580035  0.462740  \n",
       "same_pairs            0.455919  0.342332  0.317836  0.219965  "
      ]
     },
     "execution_count": 62,
     "metadata": {},
     "output_type": "execute_result"
    }
   ],
   "source": [
    "means_df\n"
   ]
  },
  {
   "cell_type": "code",
   "execution_count": 63,
   "metadata": {},
   "outputs": [
    {
     "data": {
      "text/plain": [
       "array([0.44634722, 0.39960223, 0.41006688, 0.72937658, 0.78010899,\n",
       "       0.82580842, 0.82039808, 0.78407357, 0.69003768])"
      ]
     },
     "execution_count": 63,
     "metadata": {},
     "output_type": "execute_result"
    }
   ],
   "source": [
    "means_df.query('type==\"diff_pairs\"').values[0]"
   ]
  },
  {
   "cell_type": "code",
   "execution_count": 64,
   "metadata": {},
   "outputs": [
    {
     "data": {
      "application/vnd.plotly.v1+json": {
       "config": {
        "plotlyServerURL": "https://plot.ly"
       },
       "data": [
        {
         "mode": "lines+markers",
         "name": "diff_pairs",
         "type": "scatter",
         "x": [
          "input",
          "conv1",
          "conv2",
          "conv3",
          "conv4",
          "conv5",
          "fc6",
          "fc7",
          "fc8"
         ],
         "y": [
          0.4463472243658134,
          0.39960222516846267,
          0.41006688261846025,
          0.7293765812561209,
          0.7801089852428932,
          0.8258084194852344,
          0.8203980804222067,
          0.7840735667441084,
          0.6900376801574742
         ]
        },
        {
         "mode": "lines+markers",
         "name": "frontal-half_left",
         "type": "scatter",
         "x": [
          "input",
          "conv1",
          "conv2",
          "conv3",
          "conv4",
          "conv5",
          "fc6",
          "fc7",
          "fc8"
         ],
         "y": [
          0.842708255842313,
          0.8992344364132708,
          0.9239443633266553,
          0.9396084015208558,
          0.8233236457631967,
          0.6664890485334781,
          0.4890563376884593,
          0.4542787193641249,
          0.33244011404523904
         ]
        },
        {
         "mode": "lines+markers",
         "name": "frontal-quarter_left",
         "type": "scatter",
         "x": [
          "input",
          "conv1",
          "conv2",
          "conv3",
          "conv4",
          "conv5",
          "fc6",
          "fc7",
          "fc8"
         ],
         "y": [
          0.7299690740203644,
          0.7276043538770585,
          0.8232128521248883,
          0.9152276906035397,
          0.7619209839888674,
          0.5370570919939861,
          0.3768524947519947,
          0.34679638691941683,
          0.23980776847542234
         ]
        },
        {
         "mode": "lines+markers",
         "name": "frontal-ref",
         "type": "scatter",
         "x": [
          "input",
          "conv1",
          "conv2",
          "conv3",
          "conv4",
          "conv5",
          "fc6",
          "fc7",
          "fc8"
         ],
         "y": [
          0.34265957922022766,
          0.3388949087209029,
          0.4123696791939136,
          0.6312886366370656,
          0.4827140486814763,
          0.3204526488677223,
          0.23936961194340226,
          0.22143883645761875,
          0.14871267859282739
         ]
        },
        {
         "mode": "lines+markers",
         "name": "high_ps_pairs",
         "type": "scatter",
         "x": [
          "input",
          "conv1",
          "conv2",
          "conv3",
          "conv4",
          "conv5",
          "fc6",
          "fc7",
          "fc8"
         ],
         "y": [
          0.44257790148745085,
          0.41332502723049097,
          0.42214083891923543,
          0.7222792677548387,
          0.7598248041823987,
          0.8001267090905845,
          0.8193685998089029,
          0.7888034395338575,
          0.719416220663885
         ]
        },
        {
         "mode": "lines+markers",
         "name": "low_ps_pairs",
         "type": "scatter",
         "x": [
          "input",
          "conv1",
          "conv2",
          "conv3",
          "conv4",
          "conv5",
          "fc6",
          "fc7",
          "fc8"
         ],
         "y": [
          0.46873761937933117,
          0.3928777076921742,
          0.3980097535679982,
          0.6941866557640906,
          0.6803674453935002,
          0.6358720177326237,
          0.5968556365637623,
          0.5800346527191246,
          0.46274028440630843
         ]
        },
        {
         "mode": "lines+markers",
         "name": "same_pairs",
         "type": "scatter",
         "x": [
          "input",
          "conv1",
          "conv2",
          "conv3",
          "conv4",
          "conv5",
          "fc6",
          "fc7",
          "fc8"
         ],
         "y": [
          0.37671159818108374,
          0.34768814389646363,
          0.38036460543037515,
          0.6623587814117716,
          0.613414170242664,
          0.4559192633470787,
          0.34233207369257,
          0.3178357372038629,
          0.21996506233446958
         ]
        }
       ],
       "layout": {
        "height": 700,
        "template": {
         "data": {
          "bar": [
           {
            "error_x": {
             "color": "#2a3f5f"
            },
            "error_y": {
             "color": "#2a3f5f"
            },
            "marker": {
             "line": {
              "color": "#E5ECF6",
              "width": 0.5
             }
            },
            "type": "bar"
           }
          ],
          "barpolar": [
           {
            "marker": {
             "line": {
              "color": "#E5ECF6",
              "width": 0.5
             }
            },
            "type": "barpolar"
           }
          ],
          "carpet": [
           {
            "aaxis": {
             "endlinecolor": "#2a3f5f",
             "gridcolor": "white",
             "linecolor": "white",
             "minorgridcolor": "white",
             "startlinecolor": "#2a3f5f"
            },
            "baxis": {
             "endlinecolor": "#2a3f5f",
             "gridcolor": "white",
             "linecolor": "white",
             "minorgridcolor": "white",
             "startlinecolor": "#2a3f5f"
            },
            "type": "carpet"
           }
          ],
          "choropleth": [
           {
            "colorbar": {
             "outlinewidth": 0,
             "ticks": ""
            },
            "type": "choropleth"
           }
          ],
          "contour": [
           {
            "colorbar": {
             "outlinewidth": 0,
             "ticks": ""
            },
            "colorscale": [
             [
              0,
              "#0d0887"
             ],
             [
              0.1111111111111111,
              "#46039f"
             ],
             [
              0.2222222222222222,
              "#7201a8"
             ],
             [
              0.3333333333333333,
              "#9c179e"
             ],
             [
              0.4444444444444444,
              "#bd3786"
             ],
             [
              0.5555555555555556,
              "#d8576b"
             ],
             [
              0.6666666666666666,
              "#ed7953"
             ],
             [
              0.7777777777777778,
              "#fb9f3a"
             ],
             [
              0.8888888888888888,
              "#fdca26"
             ],
             [
              1,
              "#f0f921"
             ]
            ],
            "type": "contour"
           }
          ],
          "contourcarpet": [
           {
            "colorbar": {
             "outlinewidth": 0,
             "ticks": ""
            },
            "type": "contourcarpet"
           }
          ],
          "heatmap": [
           {
            "colorbar": {
             "outlinewidth": 0,
             "ticks": ""
            },
            "colorscale": [
             [
              0,
              "#0d0887"
             ],
             [
              0.1111111111111111,
              "#46039f"
             ],
             [
              0.2222222222222222,
              "#7201a8"
             ],
             [
              0.3333333333333333,
              "#9c179e"
             ],
             [
              0.4444444444444444,
              "#bd3786"
             ],
             [
              0.5555555555555556,
              "#d8576b"
             ],
             [
              0.6666666666666666,
              "#ed7953"
             ],
             [
              0.7777777777777778,
              "#fb9f3a"
             ],
             [
              0.8888888888888888,
              "#fdca26"
             ],
             [
              1,
              "#f0f921"
             ]
            ],
            "type": "heatmap"
           }
          ],
          "heatmapgl": [
           {
            "colorbar": {
             "outlinewidth": 0,
             "ticks": ""
            },
            "colorscale": [
             [
              0,
              "#0d0887"
             ],
             [
              0.1111111111111111,
              "#46039f"
             ],
             [
              0.2222222222222222,
              "#7201a8"
             ],
             [
              0.3333333333333333,
              "#9c179e"
             ],
             [
              0.4444444444444444,
              "#bd3786"
             ],
             [
              0.5555555555555556,
              "#d8576b"
             ],
             [
              0.6666666666666666,
              "#ed7953"
             ],
             [
              0.7777777777777778,
              "#fb9f3a"
             ],
             [
              0.8888888888888888,
              "#fdca26"
             ],
             [
              1,
              "#f0f921"
             ]
            ],
            "type": "heatmapgl"
           }
          ],
          "histogram": [
           {
            "marker": {
             "colorbar": {
              "outlinewidth": 0,
              "ticks": ""
             }
            },
            "type": "histogram"
           }
          ],
          "histogram2d": [
           {
            "colorbar": {
             "outlinewidth": 0,
             "ticks": ""
            },
            "colorscale": [
             [
              0,
              "#0d0887"
             ],
             [
              0.1111111111111111,
              "#46039f"
             ],
             [
              0.2222222222222222,
              "#7201a8"
             ],
             [
              0.3333333333333333,
              "#9c179e"
             ],
             [
              0.4444444444444444,
              "#bd3786"
             ],
             [
              0.5555555555555556,
              "#d8576b"
             ],
             [
              0.6666666666666666,
              "#ed7953"
             ],
             [
              0.7777777777777778,
              "#fb9f3a"
             ],
             [
              0.8888888888888888,
              "#fdca26"
             ],
             [
              1,
              "#f0f921"
             ]
            ],
            "type": "histogram2d"
           }
          ],
          "histogram2dcontour": [
           {
            "colorbar": {
             "outlinewidth": 0,
             "ticks": ""
            },
            "colorscale": [
             [
              0,
              "#0d0887"
             ],
             [
              0.1111111111111111,
              "#46039f"
             ],
             [
              0.2222222222222222,
              "#7201a8"
             ],
             [
              0.3333333333333333,
              "#9c179e"
             ],
             [
              0.4444444444444444,
              "#bd3786"
             ],
             [
              0.5555555555555556,
              "#d8576b"
             ],
             [
              0.6666666666666666,
              "#ed7953"
             ],
             [
              0.7777777777777778,
              "#fb9f3a"
             ],
             [
              0.8888888888888888,
              "#fdca26"
             ],
             [
              1,
              "#f0f921"
             ]
            ],
            "type": "histogram2dcontour"
           }
          ],
          "mesh3d": [
           {
            "colorbar": {
             "outlinewidth": 0,
             "ticks": ""
            },
            "type": "mesh3d"
           }
          ],
          "parcoords": [
           {
            "line": {
             "colorbar": {
              "outlinewidth": 0,
              "ticks": ""
             }
            },
            "type": "parcoords"
           }
          ],
          "pie": [
           {
            "automargin": true,
            "type": "pie"
           }
          ],
          "scatter": [
           {
            "marker": {
             "colorbar": {
              "outlinewidth": 0,
              "ticks": ""
             }
            },
            "type": "scatter"
           }
          ],
          "scatter3d": [
           {
            "line": {
             "colorbar": {
              "outlinewidth": 0,
              "ticks": ""
             }
            },
            "marker": {
             "colorbar": {
              "outlinewidth": 0,
              "ticks": ""
             }
            },
            "type": "scatter3d"
           }
          ],
          "scattercarpet": [
           {
            "marker": {
             "colorbar": {
              "outlinewidth": 0,
              "ticks": ""
             }
            },
            "type": "scattercarpet"
           }
          ],
          "scattergeo": [
           {
            "marker": {
             "colorbar": {
              "outlinewidth": 0,
              "ticks": ""
             }
            },
            "type": "scattergeo"
           }
          ],
          "scattergl": [
           {
            "marker": {
             "colorbar": {
              "outlinewidth": 0,
              "ticks": ""
             }
            },
            "type": "scattergl"
           }
          ],
          "scattermapbox": [
           {
            "marker": {
             "colorbar": {
              "outlinewidth": 0,
              "ticks": ""
             }
            },
            "type": "scattermapbox"
           }
          ],
          "scatterpolar": [
           {
            "marker": {
             "colorbar": {
              "outlinewidth": 0,
              "ticks": ""
             }
            },
            "type": "scatterpolar"
           }
          ],
          "scatterpolargl": [
           {
            "marker": {
             "colorbar": {
              "outlinewidth": 0,
              "ticks": ""
             }
            },
            "type": "scatterpolargl"
           }
          ],
          "scatterternary": [
           {
            "marker": {
             "colorbar": {
              "outlinewidth": 0,
              "ticks": ""
             }
            },
            "type": "scatterternary"
           }
          ],
          "surface": [
           {
            "colorbar": {
             "outlinewidth": 0,
             "ticks": ""
            },
            "colorscale": [
             [
              0,
              "#0d0887"
             ],
             [
              0.1111111111111111,
              "#46039f"
             ],
             [
              0.2222222222222222,
              "#7201a8"
             ],
             [
              0.3333333333333333,
              "#9c179e"
             ],
             [
              0.4444444444444444,
              "#bd3786"
             ],
             [
              0.5555555555555556,
              "#d8576b"
             ],
             [
              0.6666666666666666,
              "#ed7953"
             ],
             [
              0.7777777777777778,
              "#fb9f3a"
             ],
             [
              0.8888888888888888,
              "#fdca26"
             ],
             [
              1,
              "#f0f921"
             ]
            ],
            "type": "surface"
           }
          ],
          "table": [
           {
            "cells": {
             "fill": {
              "color": "#EBF0F8"
             },
             "line": {
              "color": "white"
             }
            },
            "header": {
             "fill": {
              "color": "#C8D4E3"
             },
             "line": {
              "color": "white"
             }
            },
            "type": "table"
           }
          ]
         },
         "layout": {
          "annotationdefaults": {
           "arrowcolor": "#2a3f5f",
           "arrowhead": 0,
           "arrowwidth": 1
          },
          "coloraxis": {
           "colorbar": {
            "outlinewidth": 0,
            "ticks": ""
           }
          },
          "colorscale": {
           "diverging": [
            [
             0,
             "#8e0152"
            ],
            [
             0.1,
             "#c51b7d"
            ],
            [
             0.2,
             "#de77ae"
            ],
            [
             0.3,
             "#f1b6da"
            ],
            [
             0.4,
             "#fde0ef"
            ],
            [
             0.5,
             "#f7f7f7"
            ],
            [
             0.6,
             "#e6f5d0"
            ],
            [
             0.7,
             "#b8e186"
            ],
            [
             0.8,
             "#7fbc41"
            ],
            [
             0.9,
             "#4d9221"
            ],
            [
             1,
             "#276419"
            ]
           ],
           "sequential": [
            [
             0,
             "#0d0887"
            ],
            [
             0.1111111111111111,
             "#46039f"
            ],
            [
             0.2222222222222222,
             "#7201a8"
            ],
            [
             0.3333333333333333,
             "#9c179e"
            ],
            [
             0.4444444444444444,
             "#bd3786"
            ],
            [
             0.5555555555555556,
             "#d8576b"
            ],
            [
             0.6666666666666666,
             "#ed7953"
            ],
            [
             0.7777777777777778,
             "#fb9f3a"
            ],
            [
             0.8888888888888888,
             "#fdca26"
            ],
            [
             1,
             "#f0f921"
            ]
           ],
           "sequentialminus": [
            [
             0,
             "#0d0887"
            ],
            [
             0.1111111111111111,
             "#46039f"
            ],
            [
             0.2222222222222222,
             "#7201a8"
            ],
            [
             0.3333333333333333,
             "#9c179e"
            ],
            [
             0.4444444444444444,
             "#bd3786"
            ],
            [
             0.5555555555555556,
             "#d8576b"
            ],
            [
             0.6666666666666666,
             "#ed7953"
            ],
            [
             0.7777777777777778,
             "#fb9f3a"
            ],
            [
             0.8888888888888888,
             "#fdca26"
            ],
            [
             1,
             "#f0f921"
            ]
           ]
          },
          "colorway": [
           "#636efa",
           "#EF553B",
           "#00cc96",
           "#ab63fa",
           "#FFA15A",
           "#19d3f3",
           "#FF6692",
           "#B6E880",
           "#FF97FF",
           "#FECB52"
          ],
          "font": {
           "color": "#2a3f5f"
          },
          "geo": {
           "bgcolor": "white",
           "lakecolor": "white",
           "landcolor": "#E5ECF6",
           "showlakes": true,
           "showland": true,
           "subunitcolor": "white"
          },
          "hoverlabel": {
           "align": "left"
          },
          "hovermode": "closest",
          "mapbox": {
           "style": "light"
          },
          "paper_bgcolor": "white",
          "plot_bgcolor": "#E5ECF6",
          "polar": {
           "angularaxis": {
            "gridcolor": "white",
            "linecolor": "white",
            "ticks": ""
           },
           "bgcolor": "#E5ECF6",
           "radialaxis": {
            "gridcolor": "white",
            "linecolor": "white",
            "ticks": ""
           }
          },
          "scene": {
           "xaxis": {
            "backgroundcolor": "#E5ECF6",
            "gridcolor": "white",
            "gridwidth": 2,
            "linecolor": "white",
            "showbackground": true,
            "ticks": "",
            "zerolinecolor": "white"
           },
           "yaxis": {
            "backgroundcolor": "#E5ECF6",
            "gridcolor": "white",
            "gridwidth": 2,
            "linecolor": "white",
            "showbackground": true,
            "ticks": "",
            "zerolinecolor": "white"
           },
           "zaxis": {
            "backgroundcolor": "#E5ECF6",
            "gridcolor": "white",
            "gridwidth": 2,
            "linecolor": "white",
            "showbackground": true,
            "ticks": "",
            "zerolinecolor": "white"
           }
          },
          "shapedefaults": {
           "line": {
            "color": "#2a3f5f"
           }
          },
          "ternary": {
           "aaxis": {
            "gridcolor": "white",
            "linecolor": "white",
            "ticks": ""
           },
           "baxis": {
            "gridcolor": "white",
            "linecolor": "white",
            "ticks": ""
           },
           "bgcolor": "#E5ECF6",
           "caxis": {
            "gridcolor": "white",
            "linecolor": "white",
            "ticks": ""
           }
          },
          "title": {
           "x": 0.05
          },
          "xaxis": {
           "automargin": true,
           "gridcolor": "white",
           "linecolor": "white",
           "ticks": "",
           "title": {
            "standoff": 15
           },
           "zerolinecolor": "white",
           "zerolinewidth": 2
          },
          "yaxis": {
           "automargin": true,
           "gridcolor": "white",
           "linecolor": "white",
           "ticks": "",
           "title": {
            "standoff": 15
           },
           "zerolinecolor": "white",
           "zerolinewidth": 2
          }
         }
        },
        "width": 1000
       }
      },
      "text/html": [
       "<div>                            <div id=\"56375891-c55b-49b9-9708-0944d27b75ac\" class=\"plotly-graph-div\" style=\"height:700px; width:1000px;\"></div>            <script type=\"text/javascript\">                require([\"plotly\"], function(Plotly) {                    window.PLOTLYENV=window.PLOTLYENV || {};                                    if (document.getElementById(\"56375891-c55b-49b9-9708-0944d27b75ac\")) {                    Plotly.newPlot(                        \"56375891-c55b-49b9-9708-0944d27b75ac\",                        [{\"mode\": \"lines+markers\", \"name\": \"diff_pairs\", \"type\": \"scatter\", \"x\": [\"input\", \"conv1\", \"conv2\", \"conv3\", \"conv4\", \"conv5\", \"fc6\", \"fc7\", \"fc8\"], \"y\": [0.4463472243658134, 0.39960222516846267, 0.41006688261846025, 0.7293765812561209, 0.7801089852428932, 0.8258084194852344, 0.8203980804222067, 0.7840735667441084, 0.6900376801574742]}, {\"mode\": \"lines+markers\", \"name\": \"frontal-half_left\", \"type\": \"scatter\", \"x\": [\"input\", \"conv1\", \"conv2\", \"conv3\", \"conv4\", \"conv5\", \"fc6\", \"fc7\", \"fc8\"], \"y\": [0.842708255842313, 0.8992344364132708, 0.9239443633266553, 0.9396084015208558, 0.8233236457631967, 0.6664890485334781, 0.4890563376884593, 0.4542787193641249, 0.33244011404523904]}, {\"mode\": \"lines+markers\", \"name\": \"frontal-quarter_left\", \"type\": \"scatter\", \"x\": [\"input\", \"conv1\", \"conv2\", \"conv3\", \"conv4\", \"conv5\", \"fc6\", \"fc7\", \"fc8\"], \"y\": [0.7299690740203644, 0.7276043538770585, 0.8232128521248883, 0.9152276906035397, 0.7619209839888674, 0.5370570919939861, 0.3768524947519947, 0.34679638691941683, 0.23980776847542234]}, {\"mode\": \"lines+markers\", \"name\": \"frontal-ref\", \"type\": \"scatter\", \"x\": [\"input\", \"conv1\", \"conv2\", \"conv3\", \"conv4\", \"conv5\", \"fc6\", \"fc7\", \"fc8\"], \"y\": [0.34265957922022766, 0.3388949087209029, 0.4123696791939136, 0.6312886366370656, 0.4827140486814763, 0.3204526488677223, 0.23936961194340226, 0.22143883645761875, 0.14871267859282739]}, {\"mode\": \"lines+markers\", \"name\": \"high_ps_pairs\", \"type\": \"scatter\", \"x\": [\"input\", \"conv1\", \"conv2\", \"conv3\", \"conv4\", \"conv5\", \"fc6\", \"fc7\", \"fc8\"], \"y\": [0.44257790148745085, 0.41332502723049097, 0.42214083891923543, 0.7222792677548387, 0.7598248041823987, 0.8001267090905845, 0.8193685998089029, 0.7888034395338575, 0.719416220663885]}, {\"mode\": \"lines+markers\", \"name\": \"low_ps_pairs\", \"type\": \"scatter\", \"x\": [\"input\", \"conv1\", \"conv2\", \"conv3\", \"conv4\", \"conv5\", \"fc6\", \"fc7\", \"fc8\"], \"y\": [0.46873761937933117, 0.3928777076921742, 0.3980097535679982, 0.6941866557640906, 0.6803674453935002, 0.6358720177326237, 0.5968556365637623, 0.5800346527191246, 0.46274028440630843]}, {\"mode\": \"lines+markers\", \"name\": \"same_pairs\", \"type\": \"scatter\", \"x\": [\"input\", \"conv1\", \"conv2\", \"conv3\", \"conv4\", \"conv5\", \"fc6\", \"fc7\", \"fc8\"], \"y\": [0.37671159818108374, 0.34768814389646363, 0.38036460543037515, 0.6623587814117716, 0.613414170242664, 0.4559192633470787, 0.34233207369257, 0.3178357372038629, 0.21996506233446958]}],                        {\"height\": 700, \"template\": {\"data\": {\"bar\": [{\"error_x\": {\"color\": \"#2a3f5f\"}, \"error_y\": {\"color\": \"#2a3f5f\"}, \"marker\": {\"line\": {\"color\": \"#E5ECF6\", \"width\": 0.5}}, \"type\": \"bar\"}], \"barpolar\": [{\"marker\": {\"line\": {\"color\": \"#E5ECF6\", \"width\": 0.5}}, \"type\": \"barpolar\"}], \"carpet\": [{\"aaxis\": {\"endlinecolor\": \"#2a3f5f\", \"gridcolor\": \"white\", \"linecolor\": \"white\", \"minorgridcolor\": \"white\", \"startlinecolor\": \"#2a3f5f\"}, \"baxis\": {\"endlinecolor\": \"#2a3f5f\", \"gridcolor\": \"white\", \"linecolor\": \"white\", \"minorgridcolor\": \"white\", \"startlinecolor\": \"#2a3f5f\"}, \"type\": \"carpet\"}], \"choropleth\": [{\"colorbar\": {\"outlinewidth\": 0, \"ticks\": \"\"}, \"type\": \"choropleth\"}], \"contour\": [{\"colorbar\": {\"outlinewidth\": 0, \"ticks\": \"\"}, \"colorscale\": [[0.0, \"#0d0887\"], [0.1111111111111111, \"#46039f\"], [0.2222222222222222, \"#7201a8\"], [0.3333333333333333, \"#9c179e\"], [0.4444444444444444, \"#bd3786\"], [0.5555555555555556, \"#d8576b\"], [0.6666666666666666, \"#ed7953\"], [0.7777777777777778, \"#fb9f3a\"], [0.8888888888888888, \"#fdca26\"], [1.0, \"#f0f921\"]], \"type\": \"contour\"}], \"contourcarpet\": [{\"colorbar\": {\"outlinewidth\": 0, \"ticks\": \"\"}, \"type\": \"contourcarpet\"}], \"heatmap\": [{\"colorbar\": {\"outlinewidth\": 0, \"ticks\": \"\"}, \"colorscale\": [[0.0, \"#0d0887\"], [0.1111111111111111, \"#46039f\"], [0.2222222222222222, \"#7201a8\"], [0.3333333333333333, \"#9c179e\"], [0.4444444444444444, \"#bd3786\"], [0.5555555555555556, \"#d8576b\"], [0.6666666666666666, \"#ed7953\"], [0.7777777777777778, \"#fb9f3a\"], [0.8888888888888888, \"#fdca26\"], [1.0, \"#f0f921\"]], \"type\": \"heatmap\"}], \"heatmapgl\": [{\"colorbar\": {\"outlinewidth\": 0, \"ticks\": \"\"}, \"colorscale\": [[0.0, \"#0d0887\"], [0.1111111111111111, \"#46039f\"], [0.2222222222222222, \"#7201a8\"], [0.3333333333333333, \"#9c179e\"], [0.4444444444444444, \"#bd3786\"], [0.5555555555555556, \"#d8576b\"], [0.6666666666666666, \"#ed7953\"], [0.7777777777777778, \"#fb9f3a\"], [0.8888888888888888, \"#fdca26\"], [1.0, \"#f0f921\"]], \"type\": \"heatmapgl\"}], \"histogram\": [{\"marker\": {\"colorbar\": {\"outlinewidth\": 0, \"ticks\": \"\"}}, \"type\": \"histogram\"}], \"histogram2d\": [{\"colorbar\": {\"outlinewidth\": 0, \"ticks\": \"\"}, \"colorscale\": [[0.0, \"#0d0887\"], [0.1111111111111111, \"#46039f\"], [0.2222222222222222, \"#7201a8\"], [0.3333333333333333, \"#9c179e\"], [0.4444444444444444, \"#bd3786\"], [0.5555555555555556, \"#d8576b\"], [0.6666666666666666, \"#ed7953\"], [0.7777777777777778, \"#fb9f3a\"], [0.8888888888888888, \"#fdca26\"], [1.0, \"#f0f921\"]], \"type\": \"histogram2d\"}], \"histogram2dcontour\": [{\"colorbar\": {\"outlinewidth\": 0, \"ticks\": \"\"}, \"colorscale\": [[0.0, \"#0d0887\"], [0.1111111111111111, \"#46039f\"], [0.2222222222222222, \"#7201a8\"], [0.3333333333333333, \"#9c179e\"], [0.4444444444444444, \"#bd3786\"], [0.5555555555555556, \"#d8576b\"], [0.6666666666666666, \"#ed7953\"], [0.7777777777777778, \"#fb9f3a\"], [0.8888888888888888, \"#fdca26\"], [1.0, \"#f0f921\"]], \"type\": \"histogram2dcontour\"}], \"mesh3d\": [{\"colorbar\": {\"outlinewidth\": 0, \"ticks\": \"\"}, \"type\": \"mesh3d\"}], \"parcoords\": [{\"line\": {\"colorbar\": {\"outlinewidth\": 0, \"ticks\": \"\"}}, \"type\": \"parcoords\"}], \"pie\": [{\"automargin\": true, \"type\": \"pie\"}], \"scatter\": [{\"marker\": {\"colorbar\": {\"outlinewidth\": 0, \"ticks\": \"\"}}, \"type\": \"scatter\"}], \"scatter3d\": [{\"line\": {\"colorbar\": {\"outlinewidth\": 0, \"ticks\": \"\"}}, \"marker\": {\"colorbar\": {\"outlinewidth\": 0, \"ticks\": \"\"}}, \"type\": \"scatter3d\"}], \"scattercarpet\": [{\"marker\": {\"colorbar\": {\"outlinewidth\": 0, \"ticks\": \"\"}}, \"type\": \"scattercarpet\"}], \"scattergeo\": [{\"marker\": {\"colorbar\": {\"outlinewidth\": 0, \"ticks\": \"\"}}, \"type\": \"scattergeo\"}], \"scattergl\": [{\"marker\": {\"colorbar\": {\"outlinewidth\": 0, \"ticks\": \"\"}}, \"type\": \"scattergl\"}], \"scattermapbox\": [{\"marker\": {\"colorbar\": {\"outlinewidth\": 0, \"ticks\": \"\"}}, \"type\": \"scattermapbox\"}], \"scatterpolar\": [{\"marker\": {\"colorbar\": {\"outlinewidth\": 0, \"ticks\": \"\"}}, \"type\": \"scatterpolar\"}], \"scatterpolargl\": [{\"marker\": {\"colorbar\": {\"outlinewidth\": 0, \"ticks\": \"\"}}, \"type\": \"scatterpolargl\"}], \"scatterternary\": [{\"marker\": {\"colorbar\": {\"outlinewidth\": 0, \"ticks\": \"\"}}, \"type\": \"scatterternary\"}], \"surface\": [{\"colorbar\": {\"outlinewidth\": 0, \"ticks\": \"\"}, \"colorscale\": [[0.0, \"#0d0887\"], [0.1111111111111111, \"#46039f\"], [0.2222222222222222, \"#7201a8\"], [0.3333333333333333, \"#9c179e\"], [0.4444444444444444, \"#bd3786\"], [0.5555555555555556, \"#d8576b\"], [0.6666666666666666, \"#ed7953\"], [0.7777777777777778, \"#fb9f3a\"], [0.8888888888888888, \"#fdca26\"], [1.0, \"#f0f921\"]], \"type\": \"surface\"}], \"table\": [{\"cells\": {\"fill\": {\"color\": \"#EBF0F8\"}, \"line\": {\"color\": \"white\"}}, \"header\": {\"fill\": {\"color\": \"#C8D4E3\"}, \"line\": {\"color\": \"white\"}}, \"type\": \"table\"}]}, \"layout\": {\"annotationdefaults\": {\"arrowcolor\": \"#2a3f5f\", \"arrowhead\": 0, \"arrowwidth\": 1}, \"coloraxis\": {\"colorbar\": {\"outlinewidth\": 0, \"ticks\": \"\"}}, \"colorscale\": {\"diverging\": [[0, \"#8e0152\"], [0.1, \"#c51b7d\"], [0.2, \"#de77ae\"], [0.3, \"#f1b6da\"], [0.4, \"#fde0ef\"], [0.5, \"#f7f7f7\"], [0.6, \"#e6f5d0\"], [0.7, \"#b8e186\"], [0.8, \"#7fbc41\"], [0.9, \"#4d9221\"], [1, \"#276419\"]], \"sequential\": [[0.0, \"#0d0887\"], [0.1111111111111111, \"#46039f\"], [0.2222222222222222, \"#7201a8\"], [0.3333333333333333, \"#9c179e\"], [0.4444444444444444, \"#bd3786\"], [0.5555555555555556, \"#d8576b\"], [0.6666666666666666, \"#ed7953\"], [0.7777777777777778, \"#fb9f3a\"], [0.8888888888888888, \"#fdca26\"], [1.0, \"#f0f921\"]], \"sequentialminus\": [[0.0, \"#0d0887\"], [0.1111111111111111, \"#46039f\"], [0.2222222222222222, \"#7201a8\"], [0.3333333333333333, \"#9c179e\"], [0.4444444444444444, \"#bd3786\"], [0.5555555555555556, \"#d8576b\"], [0.6666666666666666, \"#ed7953\"], [0.7777777777777778, \"#fb9f3a\"], [0.8888888888888888, \"#fdca26\"], [1.0, \"#f0f921\"]]}, \"colorway\": [\"#636efa\", \"#EF553B\", \"#00cc96\", \"#ab63fa\", \"#FFA15A\", \"#19d3f3\", \"#FF6692\", \"#B6E880\", \"#FF97FF\", \"#FECB52\"], \"font\": {\"color\": \"#2a3f5f\"}, \"geo\": {\"bgcolor\": \"white\", \"lakecolor\": \"white\", \"landcolor\": \"#E5ECF6\", \"showlakes\": true, \"showland\": true, \"subunitcolor\": \"white\"}, \"hoverlabel\": {\"align\": \"left\"}, \"hovermode\": \"closest\", \"mapbox\": {\"style\": \"light\"}, \"paper_bgcolor\": \"white\", \"plot_bgcolor\": \"#E5ECF6\", \"polar\": {\"angularaxis\": {\"gridcolor\": \"white\", \"linecolor\": \"white\", \"ticks\": \"\"}, \"bgcolor\": \"#E5ECF6\", \"radialaxis\": {\"gridcolor\": \"white\", \"linecolor\": \"white\", \"ticks\": \"\"}}, \"scene\": {\"xaxis\": {\"backgroundcolor\": \"#E5ECF6\", \"gridcolor\": \"white\", \"gridwidth\": 2, \"linecolor\": \"white\", \"showbackground\": true, \"ticks\": \"\", \"zerolinecolor\": \"white\"}, \"yaxis\": {\"backgroundcolor\": \"#E5ECF6\", \"gridcolor\": \"white\", \"gridwidth\": 2, \"linecolor\": \"white\", \"showbackground\": true, \"ticks\": \"\", \"zerolinecolor\": \"white\"}, \"zaxis\": {\"backgroundcolor\": \"#E5ECF6\", \"gridcolor\": \"white\", \"gridwidth\": 2, \"linecolor\": \"white\", \"showbackground\": true, \"ticks\": \"\", \"zerolinecolor\": \"white\"}}, \"shapedefaults\": {\"line\": {\"color\": \"#2a3f5f\"}}, \"ternary\": {\"aaxis\": {\"gridcolor\": \"white\", \"linecolor\": \"white\", \"ticks\": \"\"}, \"baxis\": {\"gridcolor\": \"white\", \"linecolor\": \"white\", \"ticks\": \"\"}, \"bgcolor\": \"#E5ECF6\", \"caxis\": {\"gridcolor\": \"white\", \"linecolor\": \"white\", \"ticks\": \"\"}}, \"title\": {\"x\": 0.05}, \"xaxis\": {\"automargin\": true, \"gridcolor\": \"white\", \"linecolor\": \"white\", \"ticks\": \"\", \"title\": {\"standoff\": 15}, \"zerolinecolor\": \"white\", \"zerolinewidth\": 2}, \"yaxis\": {\"automargin\": true, \"gridcolor\": \"white\", \"linecolor\": \"white\", \"ticks\": \"\", \"title\": {\"standoff\": 15}, \"zerolinecolor\": \"white\", \"zerolinewidth\": 2}}}, \"width\": 1000},                        {\"responsive\": true}                    ).then(function(){\n",
       "                            \n",
       "var gd = document.getElementById('56375891-c55b-49b9-9708-0944d27b75ac');\n",
       "var x = new MutationObserver(function (mutations, observer) {{\n",
       "        var display = window.getComputedStyle(gd).display;\n",
       "        if (!display || display === 'none') {{\n",
       "            console.log([gd, 'removed!']);\n",
       "            Plotly.purge(gd);\n",
       "            observer.disconnect();\n",
       "        }}\n",
       "}});\n",
       "\n",
       "// Listen for the removal of the full notebook cells\n",
       "var notebookContainer = gd.closest('#notebook-container');\n",
       "if (notebookContainer) {{\n",
       "    x.observe(notebookContainer, {childList: true});\n",
       "}}\n",
       "\n",
       "// Listen for the clearing of the current output cell\n",
       "var outputEl = gd.closest('.output');\n",
       "if (outputEl) {{\n",
       "    x.observe(outputEl, {childList: true});\n",
       "}}\n",
       "\n",
       "                        })                };                });            </script>        </div>"
      ]
     },
     "metadata": {},
     "output_type": "display_data"
    }
   ],
   "source": [
    "fig = go.Figure()\n",
    "fig.update_layout(width=1000, height=700)\n",
    "for pairs_type in means_df.index:\n",
    "    fig.add_trace(go.Scatter(\n",
    "        x = means_df.columns,\n",
    "        y = means_df.query(f'type==\"{pairs_type}\"').values[0],\n",
    "        mode='lines+markers', \n",
    "        name=pairs_type))\n",
    "fig"
   ]
  },
  {
   "cell_type": "code",
   "execution_count": null,
   "metadata": {},
   "outputs": [],
   "source": []
  }
 ],
 "metadata": {
  "kernelspec": {
   "display_name": "Python 3",
   "language": "python",
   "name": "python3"
  },
  "language_info": {
   "codemirror_mode": {
    "name": "ipython",
    "version": 3
   },
   "file_extension": ".py",
   "mimetype": "text/x-python",
   "name": "python",
   "nbconvert_exporter": "python",
   "pygments_lexer": "ipython3",
   "version": "3.8.5"
  }
 },
 "nbformat": 4,
 "nbformat_minor": 4
}
